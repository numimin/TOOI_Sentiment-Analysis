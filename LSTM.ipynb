{
 "cells": [
  {
   "cell_type": "code",
   "execution_count": 1,
   "id": "bb281404",
   "metadata": {},
   "outputs": [
    {
     "name": "stdout",
     "output_type": "stream",
     "text": [
      "Requirement already satisfied: pandas in c:\\programdata\\anaconda3-64\\envs\\pytorch_env\\lib\\site-packages (0.25.3)\n",
      "Requirement already satisfied: numpy>=1.13.3 in c:\\programdata\\anaconda3-64\\envs\\pytorch_env\\lib\\site-packages (from pandas) (1.18.5)\n",
      "Requirement already satisfied: pytz>=2017.2 in c:\\programdata\\anaconda3-64\\envs\\pytorch_env\\lib\\site-packages (from pandas) (2023.3)\n",
      "Requirement already satisfied: python-dateutil>=2.6.1 in c:\\programdata\\anaconda3-64\\envs\\pytorch_env\\lib\\site-packages (from pandas) (2.8.2)\n",
      "Requirement already satisfied: six>=1.5 in c:\\programdata\\anaconda3-64\\envs\\pytorch_env\\lib\\site-packages (from python-dateutil>=2.6.1->pandas) (1.16.0)\n"
     ]
    },
    {
     "name": "stderr",
     "output_type": "stream",
     "text": [
      "You are using pip version 10.0.1, however version 20.3.4 is available.\n",
      "You should consider upgrading via the 'python -m pip install --upgrade pip' command.\n"
     ]
    },
    {
     "name": "stdout",
     "output_type": "stream",
     "text": [
      "Requirement already satisfied: protobuf==3.19.6 in c:\\programdata\\anaconda3-64\\envs\\pytorch_env\\lib\\site-packages (3.19.6)\n"
     ]
    },
    {
     "name": "stderr",
     "output_type": "stream",
     "text": [
      "You are using pip version 10.0.1, however version 20.3.4 is available.\n",
      "You should consider upgrading via the 'python -m pip install --upgrade pip' command.\n"
     ]
    },
    {
     "name": "stdout",
     "output_type": "stream",
     "text": [
      "Requirement already satisfied: tensorflow-gpu==1.4.0 in c:\\programdata\\anaconda3-64\\envs\\pytorch_env\\lib\\site-packages (1.4.0)\n",
      "Requirement already satisfied: six>=1.10.0 in c:\\programdata\\anaconda3-64\\envs\\pytorch_env\\lib\\site-packages (from tensorflow-gpu==1.4.0) (1.16.0)\n",
      "Requirement already satisfied: wheel>=0.26 in c:\\programdata\\anaconda3-64\\envs\\pytorch_env\\lib\\site-packages (from tensorflow-gpu==1.4.0) (0.37.1)\n",
      "Requirement already satisfied: protobuf>=3.3.0 in c:\\programdata\\anaconda3-64\\envs\\pytorch_env\\lib\\site-packages (from tensorflow-gpu==1.4.0) (3.19.6)\n",
      "Requirement already satisfied: enum34>=1.1.6 in c:\\programdata\\anaconda3-64\\envs\\pytorch_env\\lib\\site-packages (from tensorflow-gpu==1.4.0) (1.1.10)\n",
      "Requirement already satisfied: tensorflow-tensorboard<0.5.0,>=0.4.0rc1 in c:\\programdata\\anaconda3-64\\envs\\pytorch_env\\lib\\site-packages (from tensorflow-gpu==1.4.0) (0.4.0)\n",
      "Requirement already satisfied: numpy>=1.12.1 in c:\\programdata\\anaconda3-64\\envs\\pytorch_env\\lib\\site-packages (from tensorflow-gpu==1.4.0) (1.18.5)\n",
      "Requirement already satisfied: html5lib==0.9999999 in c:\\programdata\\anaconda3-64\\envs\\pytorch_env\\lib\\site-packages (from tensorflow-tensorboard<0.5.0,>=0.4.0rc1->tensorflow-gpu==1.4.0) (0.9999999)\n",
      "Requirement already satisfied: werkzeug>=0.11.10 in c:\\programdata\\anaconda3-64\\envs\\pytorch_env\\lib\\site-packages (from tensorflow-tensorboard<0.5.0,>=0.4.0rc1->tensorflow-gpu==1.4.0) (1.0.1)\n",
      "Requirement already satisfied: bleach==1.5.0 in c:\\programdata\\anaconda3-64\\envs\\pytorch_env\\lib\\site-packages (from tensorflow-tensorboard<0.5.0,>=0.4.0rc1->tensorflow-gpu==1.4.0) (1.5.0)\n",
      "Requirement already satisfied: markdown>=2.6.8 in c:\\programdata\\anaconda3-64\\envs\\pytorch_env\\lib\\site-packages (from tensorflow-tensorboard<0.5.0,>=0.4.0rc1->tensorflow-gpu==1.4.0) (3.2.2)\n",
      "Requirement already satisfied: importlib-metadata; python_version < \"3.8\" in c:\\programdata\\anaconda3-64\\envs\\pytorch_env\\lib\\site-packages (from markdown>=2.6.8->tensorflow-tensorboard<0.5.0,>=0.4.0rc1->tensorflow-gpu==1.4.0) (2.1.3)\n",
      "Requirement already satisfied: zipp>=0.5 in c:\\programdata\\anaconda3-64\\envs\\pytorch_env\\lib\\site-packages (from importlib-metadata; python_version < \"3.8\"->markdown>=2.6.8->tensorflow-tensorboard<0.5.0,>=0.4.0rc1->tensorflow-gpu==1.4.0) (1.2.0)\n"
     ]
    },
    {
     "name": "stderr",
     "output_type": "stream",
     "text": [
      "You are using pip version 10.0.1, however version 20.3.4 is available.\n",
      "You should consider upgrading via the 'python -m pip install --upgrade pip' command.\n"
     ]
    }
   ],
   "source": [
    "!pip install pandas\n",
    "import pandas as pd\n",
    "df = pd.read_csv(\"./signed.csv\", parse_dates=True)\n",
    "!pip install protobuf==3.19.6\n",
    "!pip install tensorflow-gpu==1.4.0"
   ]
  },
  {
   "cell_type": "code",
   "execution_count": 2,
   "id": "31c436d0",
   "metadata": {},
   "outputs": [
    {
     "name": "stderr",
     "output_type": "stream",
     "text": [
      "C:\\ProgramData\\anaconda3-64\\envs\\pytorch_env\\lib\\site-packages\\tensorflow\\python\\framework\\dtypes.py:469: FutureWarning: Passing (type, 1) or '1type' as a synonym of type is deprecated; in a future version of numpy, it will be understood as (type, (1,)) / '(1,)type'.\n",
      "  _np_qint8 = np.dtype([(\"qint8\", np.int8, 1)])\n",
      "C:\\ProgramData\\anaconda3-64\\envs\\pytorch_env\\lib\\site-packages\\tensorflow\\python\\framework\\dtypes.py:470: FutureWarning: Passing (type, 1) or '1type' as a synonym of type is deprecated; in a future version of numpy, it will be understood as (type, (1,)) / '(1,)type'.\n",
      "  _np_quint8 = np.dtype([(\"quint8\", np.uint8, 1)])\n",
      "C:\\ProgramData\\anaconda3-64\\envs\\pytorch_env\\lib\\site-packages\\tensorflow\\python\\framework\\dtypes.py:471: FutureWarning: Passing (type, 1) or '1type' as a synonym of type is deprecated; in a future version of numpy, it will be understood as (type, (1,)) / '(1,)type'.\n",
      "  _np_qint16 = np.dtype([(\"qint16\", np.int16, 1)])\n",
      "C:\\ProgramData\\anaconda3-64\\envs\\pytorch_env\\lib\\site-packages\\tensorflow\\python\\framework\\dtypes.py:472: FutureWarning: Passing (type, 1) or '1type' as a synonym of type is deprecated; in a future version of numpy, it will be understood as (type, (1,)) / '(1,)type'.\n",
      "  _np_quint16 = np.dtype([(\"quint16\", np.uint16, 1)])\n",
      "C:\\ProgramData\\anaconda3-64\\envs\\pytorch_env\\lib\\site-packages\\tensorflow\\python\\framework\\dtypes.py:473: FutureWarning: Passing (type, 1) or '1type' as a synonym of type is deprecated; in a future version of numpy, it will be understood as (type, (1,)) / '(1,)type'.\n",
      "  _np_qint32 = np.dtype([(\"qint32\", np.int32, 1)])\n",
      "C:\\ProgramData\\anaconda3-64\\envs\\pytorch_env\\lib\\site-packages\\tensorflow\\python\\framework\\dtypes.py:476: FutureWarning: Passing (type, 1) or '1type' as a synonym of type is deprecated; in a future version of numpy, it will be understood as (type, (1,)) / '(1,)type'.\n",
      "  np_resource = np.dtype([(\"resource\", np.ubyte, 1)])\n"
     ]
    },
    {
     "data": {
      "text/plain": [
       "<tensorflow.python.client.session.Session at 0x1bd404159b0>"
      ]
     },
     "execution_count": 2,
     "metadata": {},
     "output_type": "execute_result"
    }
   ],
   "source": [
    "import tensorflow as tf\n",
    "tf.__version__\n",
    "tf.Session(config=tf.ConfigProto(log_device_placement=True))"
   ]
  },
  {
   "cell_type": "code",
   "execution_count": 3,
   "id": "fc7b78ca",
   "metadata": {},
   "outputs": [
    {
     "name": "stdout",
     "output_type": "stream",
     "text": [
      "Requirement already satisfied: gensim in c:\\programdata\\anaconda3-64\\envs\\pytorch_env\\lib\\site-packages (3.8.3)\n",
      "Requirement already satisfied: smart-open>=1.8.1 in c:\\programdata\\anaconda3-64\\envs\\pytorch_env\\lib\\site-packages (from gensim) (3.0.0)\n",
      "Requirement already satisfied: scipy>=0.18.1 in c:\\programdata\\anaconda3-64\\envs\\pytorch_env\\lib\\site-packages (from gensim) (1.4.1)\n",
      "Requirement already satisfied: Cython==0.29.14 in c:\\programdata\\anaconda3-64\\envs\\pytorch_env\\lib\\site-packages (from gensim) (0.29.14)\n",
      "Requirement already satisfied: numpy>=1.11.3 in c:\\programdata\\anaconda3-64\\envs\\pytorch_env\\lib\\site-packages (from gensim) (1.18.5)\n",
      "Requirement already satisfied: six>=1.5.0 in c:\\programdata\\anaconda3-64\\envs\\pytorch_env\\lib\\site-packages (from gensim) (1.16.0)\n",
      "Requirement already satisfied: requests in c:\\programdata\\anaconda3-64\\envs\\pytorch_env\\lib\\site-packages (from smart-open>=1.8.1->gensim) (2.25.1)\n",
      "Requirement already satisfied: idna<3,>=2.5 in c:\\programdata\\anaconda3-64\\envs\\pytorch_env\\lib\\site-packages (from requests->smart-open>=1.8.1->gensim) (2.10)\n",
      "Requirement already satisfied: chardet<5,>=3.0.2 in c:\\programdata\\anaconda3-64\\envs\\pytorch_env\\lib\\site-packages (from requests->smart-open>=1.8.1->gensim) (4.0.0)\n",
      "Requirement already satisfied: urllib3<1.27,>=1.21.1 in c:\\programdata\\anaconda3-64\\envs\\pytorch_env\\lib\\site-packages (from requests->smart-open>=1.8.1->gensim) (1.26.9)\n",
      "Requirement already satisfied: certifi>=2017.4.17 in c:\\programdata\\anaconda3-64\\envs\\pytorch_env\\lib\\site-packages (from requests->smart-open>=1.8.1->gensim) (2020.6.20)\n"
     ]
    },
    {
     "name": "stderr",
     "output_type": "stream",
     "text": [
      "You are using pip version 10.0.1, however version 20.3.4 is available.\n",
      "You should consider upgrading via the 'python -m pip install --upgrade pip' command.\n"
     ]
    },
    {
     "name": "stdout",
     "output_type": "stream",
     "text": [
      "115.66809058189392\n"
     ]
    }
   ],
   "source": [
    "!pip install gensim\n",
    "from gensim.models import Word2Vec\n",
    "import time\n",
    "\n",
    "sentences = []\n",
    "for i in range(df.shape[0]):\n",
    "    sentences.append(df['Text'].iloc[i].split(' '))\n",
    "start = time.time()\n",
    "model = Word2Vec(sentences=sentences, size=50, window=5, min_count=1, workers=20)\n",
    "model.save(\"word2vec.model\")\n",
    "end = time.time()\n",
    "print(end - start)"
   ]
  },
  {
   "cell_type": "code",
   "execution_count": 4,
   "id": "2cb6f11e",
   "metadata": {},
   "outputs": [
    {
     "name": "stdout",
     "output_type": "stream",
     "text": [
      "[('нефт', 0.8420153260231018), ('энергоресурс', 0.8008077144622803), ('топлив', 0.795139729976654), ('электроэнерг', 0.7877031564712524), ('энергоносител', 0.7808429598808289), ('нефтепродукт', 0.7499064207077026), ('спг', 0.745295524597168), ('пхг', 0.7434237003326416), ('газов', 0.7384294271469116), ('газа»', 0.7090457677841187)]\n"
     ]
    }
   ],
   "source": [
    "print(model.wv.most_similar('газ'))"
   ]
  },
  {
   "cell_type": "code",
   "execution_count": 5,
   "id": "a3a0cbd3",
   "metadata": {},
   "outputs": [],
   "source": [
    "vectors = []\n",
    "for text in df['Text']:\n",
    "    vectors.append([model.wv[w] for w in text.split(' ')])"
   ]
  },
  {
   "cell_type": "code",
   "execution_count": 6,
   "id": "610dd3f2",
   "metadata": {},
   "outputs": [],
   "source": [
    "import numpy as np\n",
    "import tensorflow as tf\n",
    "\n",
    "X = vectors\n",
    "y = np.zeros((len(vectors), 3))\n",
    "classes = [-1, 0, 1]\n",
    "for i in range(len(vectors)):\n",
    "    y[i, classes.index(df['ChangeSign'].iloc[i])] = 1"
   ]
  },
  {
   "cell_type": "code",
   "execution_count": 7,
   "id": "158b51c3",
   "metadata": {},
   "outputs": [],
   "source": [
    "count = int(len(vectors) * 0.8)\n",
    "trainX, testX = X[:count], X[count:]\n",
    "trainY, testY = y[:count], y[count:]"
   ]
  },
  {
   "cell_type": "code",
   "execution_count": 9,
   "id": "ff03d7c3",
   "metadata": {},
   "outputs": [
    {
     "name": "stdout",
     "output_type": "stream",
     "text": [
      "/job:localhost/replica:0/task:0/device:CPU:0\n",
      "/job:localhost/replica:0/task:0/device:CPU:0\n",
      "here\n",
      "[[0. 0. 0. ... 0. 0. 0.]\n",
      " [0. 0. 0. ... 0. 0. 0.]\n",
      " [0. 0. 0. ... 0. 0. 0.]\n",
      " ...\n",
      " [0. 0. 0. ... 0. 0. 0.]\n",
      " [0. 0. 0. ... 0. 0. 0.]\n",
      " [0. 0. 0. ... 0. 0. 0.]]\n",
      "4.954330682754517\n"
     ]
    }
   ],
   "source": [
    "# Creates a session with log_device_placement set to True.\n",
    "with tf.device(\"/job:localhost/replica:0/task:0/device:CPU:0\"):\n",
    "    a = tf.get_variable(\"a9\", shape=[10000, 10000], initializer=tf.zeros_initializer)\n",
    "    b = tf.get_variable(\"b9\", shape=[10000, 10000], initializer=tf.zeros_initializer)\n",
    "    c = tf.matmul(a, b, name=\"c1\")\n",
    "    print(a.device)\n",
    "    print(c.device)\n",
    "    \n",
    "with tf.Session() as sess:\n",
    "    sess.run(tf.global_variables_initializer())\n",
    "    print(\"here\")\n",
    "    start = time.time()\n",
    "    print(sess.run(c))\n",
    "    end = time.time()\n",
    "    print(end - start)"
   ]
  },
  {
   "cell_type": "code",
   "execution_count": null,
   "id": "2c35dfea",
   "metadata": {},
   "outputs": [],
   "source": []
  }
 ],
 "metadata": {
  "kernelspec": {
   "display_name": "Python 3",
   "language": "python",
   "name": "python3"
  },
  "language_info": {
   "codemirror_mode": {
    "name": "ipython",
    "version": 3
   },
   "file_extension": ".py",
   "mimetype": "text/x-python",
   "name": "python",
   "nbconvert_exporter": "python",
   "pygments_lexer": "ipython3",
   "version": "3.5.6"
  }
 },
 "nbformat": 4,
 "nbformat_minor": 5
}
