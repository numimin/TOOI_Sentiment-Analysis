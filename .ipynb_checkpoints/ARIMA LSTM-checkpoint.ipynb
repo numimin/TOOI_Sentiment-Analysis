{
 "cells": [
  {
   "cell_type": "code",
   "execution_count": 2,
   "id": "fb4c6cc8",
   "metadata": {},
   "outputs": [],
   "source": [
    "import torch.nn as nn\n",
    "import torch\n",
    "lstm = torch.load(f\"lstmAdamWLr0_01VecSize600Acc83_4.model\")\n",
    "linear = torch.load(f\"linearAdamWLr0_01VecSize600Acc83_4.model\")\n",
    "cuda = torch.device('cuda')"
   ]
  },
  {
   "cell_type": "code",
   "execution_count": 108,
   "id": "1c918320",
   "metadata": {},
   "outputs": [],
   "source": [
    "import csv\n",
    "import sys\n",
    "import datetime\n",
    "\n",
    "csv.field_size_limit(int(sys.maxsize / 100000000000))\n",
    "texts = []\n",
    "signs = []\n",
    "dates = []\n",
    "all_texts = []\n",
    "with open('./signed_stem.csv', encoding='utf-8') as csvfile:\n",
    "    reader = csv.reader(csvfile, delimiter=',')\n",
    "    for row in reader:\n",
    "        if row[2] == 'Date':\n",
    "            continue\n",
    "        all_texts.append(row[3])\n",
    "        date = datetime.datetime.strptime(row[2], \"%Y-%m-%d\")\n",
    "        if date >= datetime.datetime(2023, 1, 1):\n",
    "            dates.append(date)\n",
    "            texts.append(row[3])\n",
    "            signs.append(row[8])"
   ]
  },
  {
   "cell_type": "code",
   "execution_count": 109,
   "id": "f797d477",
   "metadata": {},
   "outputs": [
    {
     "name": "stdout",
     "output_type": "stream",
     "text": [
      "87.9775185585022\n"
     ]
    }
   ],
   "source": [
    "import numpy as np\n",
    "from gensim.models import Word2Vec\n",
    "import time\n",
    "\n",
    "sentences = [text.split(' ') for text in all_texts]\n",
    "start = time.time()\n",
    "model = Word2Vec(sentences=sentences, vector_size=600, window=5, min_count=2, workers=20)\n",
    "model.save(\"word2vec.model\")\n",
    "end = time.time()\n",
    "print(end - start)"
   ]
  },
  {
   "cell_type": "code",
   "execution_count": 110,
   "id": "e54777a4",
   "metadata": {},
   "outputs": [],
   "source": [
    "vectors = [[model.wv[w] for w in text.split(' ') if w in model.wv] for text in texts]"
   ]
  },
  {
   "cell_type": "code",
   "execution_count": 111,
   "id": "b3c2082a",
   "metadata": {},
   "outputs": [
    {
     "name": "stdout",
     "output_type": "stream",
     "text": [
      "[('газа»', 0.6790980696678162), ('энергоносител', 0.5912812352180481), ('энергоресурс', 0.5821709036827087), ('электроэнерг', 0.549334704875946), ('газов', 0.5296326279640198), ('топлив', 0.5089941620826721), ('углеводород', 0.4937816858291626), ('нефтепродукт', 0.49163123965263367), ('пхг', 0.48343154788017273), ('спг', 0.480579674243927)]\n"
     ]
    }
   ],
   "source": [
    "print(model.wv.most_similar('газ'))"
   ]
  },
  {
   "cell_type": "code",
   "execution_count": 112,
   "id": "65fee360",
   "metadata": {},
   "outputs": [],
   "source": [
    "import torch.optim as optim\n",
    "\n",
    "X = vectors\n",
    "classes = [-1, 0, 1]\n",
    "for i in range(len(signs)):\n",
    "    signs[i] = int(signs[i])\n",
    "y = torch.zeros(len(vectors), 3, device='cuda:0')\n",
    "for i in range(len(vectors)):\n",
    "    y[i][classes.index(signs[i])] = 1"
   ]
  },
  {
   "cell_type": "code",
   "execution_count": 113,
   "id": "e6538a1e",
   "metadata": {},
   "outputs": [],
   "source": [
    "count = int(len(X) * 0.7)\n",
    "val_count = int(len(X) * 0.8)"
   ]
  },
  {
   "cell_type": "code",
   "execution_count": 114,
   "id": "eb1cd48a",
   "metadata": {},
   "outputs": [],
   "source": [
    "relu = nn.Softmax(dim=0)\n",
    "relu.to(\"cuda:0\")\n",
    "\n",
    "Ypred = torch.tensor([])\n",
    "for i in range(len(X)):\n",
    "    hidden = (\n",
    "        torch.rand(1 * 2, 100, device='cuda:0'),\n",
    "        torch.rand(1 * 2, 100, device='cuda:0')\n",
    "    )\n",
    "    x = np.array(X[i])\n",
    "    out, _ = lstm(torch.cuda.FloatTensor(x, device='cuda:0'), hidden)\n",
    "    out = linear(out[-1])\n",
    "    out = relu(out)\n",
    "    yPred = out\n",
    "    Ypred = torch.cat((Ypred, yPred.detach().cpu().reshape(1, 3)), 0)"
   ]
  },
  {
   "cell_type": "code",
   "execution_count": 117,
   "id": "b97c07de",
   "metadata": {},
   "outputs": [],
   "source": [
    "def accuracy(Ytrain, Ypred):\n",
    "    count = 0\n",
    "    for i in range(len(Ytrain)):\n",
    "        _max = 0\n",
    "        j_max = 0\n",
    "        for j in range(len(Ypred[i])):\n",
    "            if _max < yPred[j]:\n",
    "                _max = yPred[j]\n",
    "                j_max = j\n",
    "        if Ytrain[i][j_max] == 1:\n",
    "            count += 1\n",
    "    return count / len(Ytrain)"
   ]
  },
  {
   "cell_type": "code",
   "execution_count": 118,
   "id": "0afdb21a",
   "metadata": {},
   "outputs": [
    {
     "data": {
      "text/plain": [
       "0.6276309644588305"
      ]
     },
     "execution_count": 118,
     "metadata": {},
     "output_type": "execute_result"
    }
   ],
   "source": [
    "accuracy(y, Ypred)"
   ]
  },
  {
   "cell_type": "code",
   "execution_count": 119,
   "id": "6c0adfe9",
   "metadata": {},
   "outputs": [],
   "source": [
    "date_counts = {}\n",
    "date_score = {}\n",
    "classes = [-1, 0, 1]\n",
    "for i in range(len(y)):\n",
    "    date = dates[i]\n",
    "    if date in date_counts:\n",
    "        date_counts[date] += 1\n",
    "    else:\n",
    "        date_counts[date] = 0\n",
    "    if date in date_score:\n",
    "        date_score[date] += classes[torch.argmax(y[i]).item()]\n",
    "    else:\n",
    "        date_score[date] = 0\n",
    "for date in sorted(date_counts.keys()):\n",
    "    date_score[date] /= date_counts[date]"
   ]
  },
  {
   "cell_type": "code",
   "execution_count": 120,
   "id": "68afb8f3",
   "metadata": {},
   "outputs": [],
   "source": [
    "import openpyxl\n",
    "\n",
    "funds = openpyxl.load_workbook(\"./gazprom-moscow-exchange.xlsx\")\n",
    "funds = funds.active\n",
    "date_is = []\n",
    "for i in range(1, funds.max_row - 1):\n",
    "    try:\n",
    "        date = datetime.datetime.strptime(funds['A'][i].value, \"%Y-%m-%d\")\n",
    "    except:\n",
    "        date = datetime.datetime.strptime(funds['A'][i].value, \"%d.%m.%Y\")\n",
    "    date_is.append((date, i))"
   ]
  },
  {
   "cell_type": "code",
   "execution_count": 121,
   "id": "a4385ca8",
   "metadata": {},
   "outputs": [],
   "source": [
    "prices = {}\n",
    "old_di = list(sorted(date_is, key=lambda di: di[0]))[0]\n",
    "new_di = None\n",
    "for di in sorted(date_is, key=lambda di: di[0]):\n",
    "    new_di = di\n",
    "    _, ni = new_di\n",
    "    _, oi = old_di\n",
    "    try:\n",
    "        date = datetime.datetime.strptime(funds['A'][oi].value, \"%Y-%m-%d\")\n",
    "    except:\n",
    "        date = datetime.datetime.strptime(funds['A'][oi].value, \"%d.%m.%Y\")\n",
    "    try:\n",
    "        end = datetime.datetime.strptime(funds['A'][ni].value, \"%Y-%m-%d\")\n",
    "    except:\n",
    "        end = datetime.datetime.strptime(funds['A'][ni].value, \"%d.%m.%Y\")\n",
    "    while date < end:\n",
    "        prices[date] = funds['H'][oi].value\n",
    "        date += datetime.timedelta(days=1)\n",
    "    old_di = new_di"
   ]
  },
  {
   "cell_type": "code",
   "execution_count": 122,
   "id": "cbe813c0",
   "metadata": {},
   "outputs": [],
   "source": [
    "dates = []\n",
    "scores = []\n",
    "prices_list = []\n",
    "for date in sorted(prices.keys()):\n",
    "    if date in date_score.keys():\n",
    "        dates.append(date)\n",
    "        scores.append(date_score[date])        \n",
    "        prices_list.append(prices[date])"
   ]
  },
  {
   "cell_type": "code",
   "execution_count": 131,
   "id": "c3ea0680",
   "metadata": {},
   "outputs": [
    {
     "name": "stdout",
     "output_type": "stream",
     "text": [
      "[[1.         0.07494108]\n",
      " [0.07494108 1.        ]]\n"
     ]
    },
    {
     "data": {
      "image/png": "[encoded data removed]",
      "text/plain": [
       "<Figure size 640x480 with 1 Axes>"
      ]
     },
     "metadata": {},
     "output_type": "display_data"
    }
   ],
   "source": [
    "import matplotlib.pyplot as plt\n",
    "plt.plot(dates[1:], [s * 10 for s in scores[1:]])\n",
    "difference = []\n",
    "for i in range(1, len(prices_list)):\n",
    "    difference.append(prices_list[i] - prices_list[i - 1])\n",
    "plt.plot(dates[1:], difference)\n",
    "import numpy as np\n",
    "print(np.corrcoef(np.array(scores[1:]), np.array(difference)))"
   ]
  },
  {
   "cell_type": "code",
   "execution_count": 130,
   "id": "db82fcb5",
   "metadata": {},
   "outputs": [],
   "source": [
    "with open(\"./exog.txt\", 'w') as outf:\n",
    "    for score in scores:\n",
    "        outf.write(str(score) + \"\\n\")\n",
    "with open(\"./endog.txt\", 'w') as outf:\n",
    "    for price in prices_list:\n",
    "        outf.write(str(price) + \"\\n\")\n",
    "with open(\"./dates.txt\", 'w') as outf:\n",
    "    for date in dates:\n",
    "        outf.write(str(date) + \"\\n\")"
   ]
  },
  {
   "cell_type": "code",
   "execution_count": 134,
   "id": "03131ea1",
   "metadata": {},
   "outputs": [],
   "source": [
    "predicted_prices = []\n",
    "with open(\"./predicted.txt\") as inf:\n",
    "    for line in inf.readlines():\n",
    "        predicted_prices.append(float(line[:-1]))"
   ]
  },
  {
   "cell_type": "code",
   "execution_count": 140,
   "id": "dd5b6dc2",
   "metadata": {},
   "outputs": [],
   "source": [
    "predicted_prices = np.array(predicted_prices)\n",
    "predicted_signs = predicted_prices[1:] - predicted_prices[:-1]\n",
    "for i in range(predicted_signs.shape[0]):\n",
    "    predicted_signs[i] = 0 if predicted_signs[i] == 0 else 1 if predicted_signs[i] > 0 else -1"
   ]
  },
  {
   "cell_type": "code",
   "execution_count": 149,
   "id": "6d4a5e6f",
   "metadata": {},
   "outputs": [],
   "source": [
    "new_y = []\n",
    "classes = [-1, 0, 1]\n",
    "for i in range(y.shape[0]):\n",
    "    new_y.append(classes[torch.argmax(y[i])])"
   ]
  },
  {
   "cell_type": "code",
   "execution_count": 150,
   "id": "8c31023a",
   "metadata": {},
   "outputs": [
    {
     "name": "stdout",
     "output_type": "stream",
     "text": [
      "827\n",
      "827\n"
     ]
    }
   ],
   "source": [
    "new_y = new_y[-827:]\n",
    "print(len(new_y))\n",
    "print(predicted_signs.shape[0])"
   ]
  },
  {
   "cell_type": "code",
   "execution_count": 151,
   "id": "8cad4a9b",
   "metadata": {},
   "outputs": [
    {
     "data": {
      "text/plain": [
       "279"
      ]
     },
     "execution_count": 151,
     "metadata": {},
     "output_type": "execute_result"
    }
   ],
   "source": [
    "sum(new_y[i] == predicted_signs[i] for i in range(len(new_y)))    "
   ]
  },
  {
   "cell_type": "code",
   "execution_count": null,
   "id": "789d6465",
   "metadata": {},
   "outputs": [],
   "source": []
  }
 ],
 "metadata": {
  "kernelspec": {
   "display_name": "Python 3 (ipykernel)",
   "language": "python",
   "name": "python3"
  },
  "language_info": {
   "codemirror_mode": {
    "name": "ipython",
    "version": 3
   },
   "file_extension": ".py",
   "mimetype": "text/x-python",
   "name": "python",
   "nbconvert_exporter": "python",
   "pygments_lexer": "ipython3",
   "version": "3.8.16"
  }
 },
 "nbformat": 4,
 "nbformat_minor": 5
}
