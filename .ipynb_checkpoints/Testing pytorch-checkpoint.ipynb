{
 "cells": [
  {
   "cell_type": "code",
   "execution_count": 1,
   "id": "24e1f89d",
   "metadata": {},
   "outputs": [
    {
     "name": "stdout",
     "output_type": "stream",
     "text": [
      "1.13.1\n"
     ]
    }
   ],
   "source": [
    "import torch\n",
    "import numpy\n",
    "print(torch.__version__)"
   ]
  },
  {
   "cell_type": "code",
   "execution_count": 2,
   "id": "7025861d",
   "metadata": {},
   "outputs": [
    {
     "name": "stdout",
     "output_type": "stream",
     "text": [
      "11.6\n"
     ]
    }
   ],
   "source": [
    "print(torch.version.cuda)"
   ]
  },
  {
   "cell_type": "code",
   "execution_count": 3,
   "id": "e7c82a02",
   "metadata": {},
   "outputs": [],
   "source": [
    "import navec"
   ]
  },
  {
   "cell_type": "code",
   "execution_count": 4,
   "id": "0293071f",
   "metadata": {},
   "outputs": [],
   "source": [
    "cuda = torch.device('cuda')"
   ]
  },
  {
   "cell_type": "code",
   "execution_count": 5,
   "id": "8eb905e1",
   "metadata": {},
   "outputs": [
    {
     "name": "stdout",
     "output_type": "stream",
     "text": [
      "«ментовские войны» обошли приквел «игры престолов» пиратским ссылкам российские сериалы «тайны следствия» «ментовские войны» стали лидерами числу пиратских ссылок сети  опередив приквел «игры престолов»  аналитики объясняют это выходом новых сезонов «чисткой» другого нелегального контента кадр сериала «тайны следствия»  фото  студия «панорама»  начале      года проекты холдинга вгтрк «тайны следствия» «ментовские войны» возглавили рейтинг фильмов сериалов количеству ссылок  размещенных пиратских ресурсах  такие данные рбк представили компании contentscan  занимающейся защитой аудиовизуального контента нелегального распространения  первом квартале этого года аналитики contentscan выявили сети    тыс  ссылок пиратские ресурсы  где были доступны просмотра скачивания «тайны следствия»     тыс  ссылок «ментовскими войнами»  российские сериалы числу нелегальных ссылок обошли приквел «игры престолов» — проект «дом дракона»  который был доступен    тыс  пиратских сайтов  финальный эпизод этого сериала стал самым просматриваемым шоу американского канала hbo после «игры престолов»  ночь релиза его посмотрели   млн человек   «дом дракона» оказался популярнее спецвыпуска «гарри поттера» adv rbc ru adv rbc ru adv rbc ru считали сервис contentscan помощью собственной автоматизированной системы проанализировал количество ссылок  которым нелегально доступны фильмы сериалы интернете  изучались результаты поисковых системах «яндекс» google   выборку попали те проекты  которых россии есть официальный правообладатель  например  новинки студии disney warner bros   вышедшие после ухода этих компаний российского рынка марте      года  учитывались   собственным данным  система contentscan выявляет     таких ссылок  услугами contentscan выявления блокирования нелегально распространяемого контента пользуются том числе холдинг вгтрк  видеосервисы amediateka «кинопоиск»  студия «союзмультфильм»   основе данных количестве найденных ссылок конкретные фильмы сериалы contentscan сформировала рейтинг самого популярного кино распространителей пиратского контента  adv rbc ru adv rbc ru adv rbc ru топ    количеству найденных contentscan пиратских ссылок итогам первого квартала      года вошли российские сериалы «водоворот»     тыс  ссылок  «ликвидация»     тыс  ссылок   российско украинский сериал «по законам военного времени»     тыс  ссылок   начале прошлого года ситуация была иная  вся десятка лидеров пиратских ресурсах была представлена фильмами сериалами иностранного производства  самих ссылок было порядок больше  рейтинг возглавлял фильм «неудержимые»      тыс  ссылок первом квартале      го   далее следовал триллер «кровь деньги»      тыс    замыкал тройку лидеров «укрощение строптивого»      тыс    поменялось число зарубежных фильмов онлайн кинотеатрах  инфографика почему пираты заинтересовались «ментовскими войнами» внезапный рост интереса пиратов проектам вгтрк contentscan связывают первую очередь выходом новых сезонов этих сериалов  «идет официальная реклама  пираты затравки привлечения зрителей новому кругу выкладывают старые сезоны  зрители освежают памяти сюжет»  — объясняет представитель компании  количество пиратских ссылок напрямую связано интересом аудитории тому иному проекту  утверждают contentscan  этот интерес выше  больше распространяющих конкретный фильм сериал ресурсов  сокращения количества нелегальных ссылок фильмы сериалы  которые лидировали пиратов      году  contentscan объясняют общим снижением интереса зрителей этим проектам  так активной работой «вычищению» таких ресурсов  так  января март      года «яндекса» было удалено больше     млн пиратских ссылок  google —     млн  представитель contentscan пояснил  сотрудничество google части борьбы нелегальным контентом продолжается   пресс службе вгтрк запрос рбк причинах роста интереса пиратов ее сериалам ответили  так же поступили компании star media  которая выступает правообладателем большинства проектов рейтинга наиболее популярных пиратов  включая «по законам военного времени»  сервисе amediateka  одному юрлиц сервиса принадлежат права «дом дракона» россии  отказались комментариев  говорят участники рынка ситуации пиратством сейчас бороться пиратством правообладатели могут обратившись непосредственно распространителю нелегального контента требованием удалить фильм  подав иск суд — это основные меры  закрепленные законодательном уровне  перечисляет адвокат pen & paper виктор рыков  эффективность этих мер ограничена технических возможностей пиратских ресурсов оперативно создавать сайты зеркала переводить пользовательскую базу новые интернет адреса  «справедливо оценить динамику количества судебных дел  связанных нелегальным распространением контента  — рбк   достаточно сложно  — признает рыков  — то же время расцвет пиратских ресурсов фоне ухода иностранных правообладателей создает удобную инфраструктуру нарушителей авторских прав уже отношению российскому контенту»  вестерос против средиземья  смотрели «дом дракона» «кольца власти»  рост востребованности пиратских ресурсов напрямую повлияло отсутствие легальном прокате стриминговых сервисах западных новинок  согласен директор института современных медиа кирилл танаев  зритель  его словам  привык такому контенту «теперь потребляет его легальные сервисы  пиратские ресурсы торренты»  попаданию перечень наиболее популярных пиратов проектов сериалов вгтрк танаев удивлен  так обычно  его словам  подобные ресурсы используются поиска «наиболее популярных фильмов сериалов  которые другому посмотреть неудобно  вовсе невозможно»  «по пиратству россии больше всего нанесла удар борьба нелегальным контентом vk  действия правообладателей  вычищавших нелегальные копии прокатных фильмов  — отмечает танаев  — системно пиратством можно бороться комплексно  стимулируя развитие легальных удобных сервисов  тут проблема законодательстве  совокупности факторов пиратские сервисы будут расти»  «газпром медиа»  объединяет том числе телеканалы тнт  «матч тв»  «пятница »  студию       production др   считают  бороться пиратством нужно интернете  офлайн сегменте  например кинотеатрах барах  которые нелегально показывают спортивные трансляции  оценкам холдинга  его борьба распространением пиратского контента позволила предотвратить ущерб компании «сотни миллионов рублей»  рост пиратского спроса собственный контент уже фиксируют национальной медиа группе  нмг  полностью частично владеет том числе «первым каналом»  рен тв  «стс медиа»  кинокомпанией art pictures studio   всплеск нарушений чаще всего приходится выпуск премьерных ситкомов оригинальных проектов компании  этом нмг отмечают «высокую эффективность» так называемого антипиратского меморандума  «индустрия единогласно поддерживает скорейшее принятие законопроекта  закрепляющего его положения»  работает антипиратский меморандум так называемый меморандум сотрудничестве сфере охраны исключительных прав эпоху развития цифровых технологий был заключен ноябре      года фоне судебных разбирательств телеканалами  которые входят холдинг «газпром медиа»  тот момент тнт  тв  « » «супер»  «яндексом»  поводом разбирательства стали ссылки пиратский контент сервисе «яндекс видео»  меморандум предполагал создание реестра указателей страниц сайтов интернете  которых распространяется пиратский контент  внесенные реестр ссылки автоматически удаляются выдачи поисковых ресурсов  сообщили рбк пресс службе «яндекса»  первый квартал      года российские правообладатели внесли реестр меморандума     млн ссылок сайты нелегальным контентом  суммарно данным   марта их более    млн  меморандум был подписан большинством крупнейших представителей медиа телеком индустрии  нему присоединились том числе «первый канал»  вгтрк  «стс медиа» нмг  «газпром медиа»  ассоциация «интернет видео»  объединяет ряд крупных российских онлайн кинотеатров  «яндекс»  менее законодательном уровне механизм работы меморандума закреплен  присоединение нему является добровольным     интернет пиратство    сериал    «игра престолов»    кино  \n",
      "0\n",
      "rbc\n",
      "2023-04-12\n",
      "359.8636177494369\n"
     ]
    }
   ],
   "source": [
    "import csv\n",
    "import sys\n",
    "\n",
    "csv.field_size_limit(int(sys.maxsize / 100000000000))\n",
    "texts = []\n",
    "signs = []\n",
    "dates = []\n",
    "sites = []\n",
    "with open('./signed_stem.csv', encoding='utf-8') as csvfile:\n",
    "    reader = csv.reader(csvfile, delimiter=',')\n",
    "    for row in reader:\n",
    "        if row[4] == 'interfax':\n",
    "            continue\n",
    "        texts.append(row[3])\n",
    "        signs.append(row[8])\n",
    "        dates.append(row[2])\n",
    "        sites.append(row[4])\n",
    "signs = signs[1:]\n",
    "print(texts[1])\n",
    "print(signs[1])\n",
    "print(sites[1])\n",
    "print(dates[1])\n",
    "word_counts = []\n",
    "for text in texts:\n",
    "    words = text.split()\n",
    "    word_counts.append(len(words))\n",
    "print(sum(word_counts) / len(word_counts))"
   ]
  },
  {
   "cell_type": "code",
   "execution_count": 24,
   "id": "b6e710a1",
   "metadata": {},
   "outputs": [
    {
     "name": "stderr",
     "output_type": "stream",
     "text": [
      "C:\\ProgramData\\anaconda3-64\\envs\\new_pytorch_env\\lib\\site-packages\\gensim\\similarities\\__init__.py:15: UserWarning: The gensim.similarities.levenshtein submodule is disabled, because the optional Levenshtein package <https://pypi.org/project/python-Levenshtein/> is unavailable. Install Levenhstein (e.g. `pip install python-Levenshtein`) to suppress this warning.\n",
      "  warnings.warn(msg)\n"
     ]
    },
    {
     "name": "stdout",
     "output_type": "stream",
     "text": [
      "82.60210680961609\n"
     ]
    }
   ],
   "source": [
    "import numpy as np\n",
    "from gensim.models import Word2Vec\n",
    "import time\n",
    "\n",
    "sentences = [text.split(' ') for text in texts]\n",
    "start = time.time()\n",
    "model = Word2Vec(sentences=sentences, vector_size=600, window=5, min_count=2, workers=20)\n",
    "model.save(\"word2vec.model\")\n",
    "end = time.time()\n",
    "print(end - start)\n",
    "#from navec import Navec\n",
    "#path = 'navec_hudlit_v1_12B_500K_300d_100q.tar'\n",
    "#navec = Navec.load(path)"
   ]
  },
  {
   "cell_type": "code",
   "execution_count": 26,
   "id": "46807aeb",
   "metadata": {},
   "outputs": [],
   "source": [
    "vectors = [[model.wv[w] for w in text.split(' ') if w in model.wv] for text in texts[1:]]"
   ]
  },
  {
   "cell_type": "code",
   "execution_count": 27,
   "id": "c2a50492",
   "metadata": {},
   "outputs": [],
   "source": [
    "import torch\n",
    "import torch.nn as nn\n",
    "import torch.optim as optim\n",
    "\n",
    "X = vectors\n",
    "classes = [-1, 0, 1]\n",
    "for i in range(len(signs)):\n",
    "    signs[i] = int(signs[i])\n",
    "y = torch.zeros(len(vectors), 3, device='cuda:0')\n",
    "for i in range(len(vectors)):\n",
    "    y[i][classes.index(signs[i])] = 1"
   ]
  },
  {
   "cell_type": "code",
   "execution_count": 28,
   "id": "ba156a07",
   "metadata": {},
   "outputs": [
    {
     "name": "stdout",
     "output_type": "stream",
     "text": [
      "3654\n",
      "3654\n"
     ]
    }
   ],
   "source": [
    "unique_date_and_sign = {(dates[i], signs[i]): i for i in range(len(X))}\n",
    "indices = set(unique_date_and_sign.values())\n",
    "Xr = [X[i] for i in range(len(X)) if i in indices]\n",
    "yr = [y[i] for i in range(len(y)) if i in indices]\n",
    "sitesr = [sites[i] for i in range(len(sites)) if i in indices]\n",
    "print(len(Xr))\n",
    "print(len(yr))\n",
    "\n",
    "import random\n",
    "\n",
    "def shuffle(X, y, sites):\n",
    "    indices = [i for i in range(len(X))]\n",
    "    random.shuffle(indices)\n",
    "    X = [X[i] for i in indices]\n",
    "    y = [y[i] for i in indices]\n",
    "    sites = [sites[i] for i in indices]\n",
    "    return (X, y, sites)\n",
    "X, y, newSites = shuffle(X, y, sites)\n",
    "Xr, yr, newSitesr = shuffle(Xr, yr, sitesr)"
   ]
  },
  {
   "cell_type": "code",
   "execution_count": 110,
   "id": "f43c29eb",
   "metadata": {},
   "outputs": [],
   "source": [
    "count = int(len(Xr) * 0.7)\n",
    "val_count = int(len(Xr) * 0.8)\n",
    "Xtrain, Xval, Xtest = Xr[:count], Xr[count:val_count], Xr[val_count:]\n",
    "Ytrain, Yval, Ytest = yr[:count], yr[count:val_count], yr[val_count:]"
   ]
  },
  {
   "cell_type": "code",
   "execution_count": 111,
   "id": "2f2a03e3",
   "metadata": {},
   "outputs": [],
   "source": [
    "Strain, Sval, Stest = newSitesr[:count], newSitesr[count:val_count], newSitesr[val_count:]"
   ]
  },
  {
   "cell_type": "code",
   "execution_count": 113,
   "id": "3555f2b5",
   "metadata": {},
   "outputs": [],
   "source": [
    "count = int(len(X) * 0.7)\n",
    "val_count = int(len(X) * 0.8)\n",
    "Xtrain, Xval, Xtest = X[:count], X[count:val_count], X[val_count:]\n",
    "Ytrain, Yval, Ytest = y[:count], y[count:val_count], y[val_count:]"
   ]
  },
  {
   "cell_type": "code",
   "execution_count": 114,
   "id": "9d8128c2",
   "metadata": {},
   "outputs": [],
   "source": [
    "Strain, Sval, Stest = newSites[:count], newSites[count:val_count], newSites[val_count:]"
   ]
  },
  {
   "cell_type": "code",
   "execution_count": 117,
   "id": "0ff8294a",
   "metadata": {},
   "outputs": [],
   "source": [
    "#TODO: change lstm, linear, relu to model\n",
    "def accuracy(Ytrain, Ypred, sites):\n",
    "    count = 0\n",
    "    ria = 0\n",
    "    interfax = 0\n",
    "    rbc = 0\n",
    "    percentage_str = \"\"\n",
    "    \n",
    "    for i in range(len(Ytrain)):\n",
    "        _max = 0\n",
    "        j_max = 0\n",
    "        for j in range(len(Ypred[i])):\n",
    "            if _max < yPred[j]:\n",
    "                _max = yPred[j]\n",
    "                j_max = j\n",
    "        if Ytrain[i][j_max] == 1:\n",
    "            count += 1\n",
    "        else:\n",
    "            if sites[i] == 'ria':\n",
    "                ria += 1\n",
    "            if sites[i] == 'interfax':\n",
    "                interfax += 1\n",
    "            if sites[i] == 'rbc':\n",
    "                rbc += 1\n",
    "    return count / len(Xtrain), ria / len(Xtrain), interfax / len(Xtrain), rbc / len(Xtrain)\n",
    "\n",
    "def calculate_and_accuracy(Xtrain, Ytrain, sites, lstm, linear, relu):\n",
    "    count = 0\n",
    "    ria = 0\n",
    "    interfax = 0\n",
    "    rbc = 0\n",
    "    for i in range(len(Xtrain)):\n",
    "        hidden = (\n",
    "            torch.rand(1 * 2, 50, device='cuda:0'),\n",
    "            torch.rand(1 * 2, 50, device='cuda:0')\n",
    "        )\n",
    "        x = Xtrain[i]\n",
    "        x = np.array(x)\n",
    "        out, _ = lstm(torch.cuda.FloatTensor(x, device='cuda:0'), hidden)\n",
    "        out = linear(out[-1])\n",
    "        out = relu(out)\n",
    "        yPred = out\n",
    "        yPred = yPred.reshape(-1)\n",
    "        _max = 0\n",
    "        j_max = 0\n",
    "        for j in range(len(yPred)):\n",
    "            if _max < yPred[j]:\n",
    "                _max = yPred[j]\n",
    "                j_max = j\n",
    "        if Ytrain[i][j_max] == 1:\n",
    "            count += 1\n",
    "        else:\n",
    "            if sites[i] == 'ria':\n",
    "                ria += 1\n",
    "            if sites[i] == 'interfax':\n",
    "                interfax += 1\n",
    "            if sites[i] == 'rbc':\n",
    "                rbc += 1\n",
    "    return count / len(Xtrain), ria / len(Xtrain), interfax / len(Xtrain), rbc / len(Xtrain)"
   ]
  },
  {
   "cell_type": "code",
   "execution_count": 132,
   "id": "387832a1",
   "metadata": {},
   "outputs": [
    {
     "name": "stdout",
     "output_type": "stream",
     "text": [
      "Epoch 0: Time: 372.23774218559265s: Loss: 0.01761688191108755 Accuracy: 0.6511355801174233, Validation accuracy: 0.7299985373701916\n",
      "Epoch 1: Time: 382.9209234714508s: Loss: 0.01713898556601138 Accuracy: 0.6511355801174233, Validation accuracy: 0.7408219979523183\n",
      "Epoch 2: Time: 379.7012813091278s: Loss: 0.0168660323735609 Accuracy: 0.6511355801174233, Validation accuracy: 0.7396518941056018\n",
      "Epoch 3: Time: 369.6006760597229s: Loss: 0.016634835463961137 Accuracy: 0.6511355801174233, Validation accuracy: 0.7599824484422992\n",
      "Epoch 4: Time: 369.327036857605s: Loss: 0.01639983056942501 Accuracy: 0.6511355801174233, Validation accuracy: 0.7731461167178587\n",
      "Epoch 5: Time: 391.19666934013367s: Loss: 0.016237846532186746 Accuracy: 0.6511355801174233, Validation accuracy: 0.7788503729706011\n",
      "Epoch 6: Time: 373.2203195095062s: Loss: 0.016137663868499987 Accuracy: 0.6511355801174233, Validation accuracy: 0.7842621032616645\n",
      "Epoch 7: Time: 374.6381411552429s: Loss: 0.015935310933234807 Accuracy: 0.6511355801174233, Validation accuracy: 0.786017259031739\n",
      "Epoch 8: Time: 361.94951939582825s: Loss: 0.01583861516304192 Accuracy: 0.6511355801174233, Validation accuracy: 0.7901126224952465\n",
      "Epoch 9: Time: 372.0078938007355s: Loss: 0.015890053268004807 Accuracy: 0.6511355801174233, Validation accuracy: 0.7847008922041832\n",
      "Epoch 10: 3.9029690144376428%, Time: 13.538662195205688s, Loss: 0.016012380319189553 \r"
     ]
    },
    {
     "ename": "KeyboardInterrupt",
     "evalue": "",
     "output_type": "error",
     "traceback": [
      "\u001b[1;31m---------------------------------------------------------------------------\u001b[0m",
      "\u001b[1;31mKeyboardInterrupt\u001b[0m                         Traceback (most recent call last)",
      "Cell \u001b[1;32mIn[132], line 28\u001b[0m\n\u001b[0;32m     26\u001b[0m \u001b[38;5;28;01melse\u001b[39;00m:\n\u001b[0;32m     27\u001b[0m     batch \u001b[38;5;241m=\u001b[39m Xtrain[i \u001b[38;5;241m*\u001b[39m batch_size:]\n\u001b[1;32m---> 28\u001b[0m \u001b[43moptimizer\u001b[49m\u001b[38;5;241;43m.\u001b[39;49m\u001b[43mzero_grad\u001b[49m\u001b[43m(\u001b[49m\u001b[43m)\u001b[49m\n\u001b[0;32m     29\u001b[0m \u001b[38;5;28;01mfor\u001b[39;00m x \u001b[38;5;129;01min\u001b[39;00m batch:\n\u001b[0;32m     30\u001b[0m     hidden \u001b[38;5;241m=\u001b[39m (\n\u001b[0;32m     31\u001b[0m         torch\u001b[38;5;241m.\u001b[39mrand(\u001b[38;5;241m1\u001b[39m \u001b[38;5;241m*\u001b[39m \u001b[38;5;241m2\u001b[39m, \u001b[38;5;241m50\u001b[39m, device\u001b[38;5;241m=\u001b[39m\u001b[38;5;124m'\u001b[39m\u001b[38;5;124mcuda:0\u001b[39m\u001b[38;5;124m'\u001b[39m),\n\u001b[0;32m     32\u001b[0m         torch\u001b[38;5;241m.\u001b[39mrand(\u001b[38;5;241m1\u001b[39m \u001b[38;5;241m*\u001b[39m \u001b[38;5;241m2\u001b[39m, \u001b[38;5;241m50\u001b[39m, device\u001b[38;5;241m=\u001b[39m\u001b[38;5;124m'\u001b[39m\u001b[38;5;124mcuda:0\u001b[39m\u001b[38;5;124m'\u001b[39m)\n\u001b[0;32m     33\u001b[0m     )\n",
      "File \u001b[1;32mC:\\ProgramData\\anaconda3-64\\envs\\new_pytorch_env\\lib\\site-packages\\torch\\optim\\optimizer.py:267\u001b[0m, in \u001b[0;36mOptimizer.zero_grad\u001b[1;34m(self, set_to_none)\u001b[0m\n\u001b[0;32m    265\u001b[0m \u001b[38;5;28;01mif\u001b[39;00m foreach:\n\u001b[0;32m    266\u001b[0m     per_device_and_dtype_grads \u001b[38;5;241m=\u001b[39m defaultdict(\u001b[38;5;28;01mlambda\u001b[39;00m: defaultdict(\u001b[38;5;28mlist\u001b[39m))\n\u001b[1;32m--> 267\u001b[0m \u001b[38;5;28;01mwith\u001b[39;00m \u001b[43mtorch\u001b[49m\u001b[38;5;241;43m.\u001b[39;49m\u001b[43mautograd\u001b[49m\u001b[38;5;241;43m.\u001b[39;49m\u001b[43mprofiler\u001b[49m\u001b[38;5;241;43m.\u001b[39;49m\u001b[43mrecord_function\u001b[49m\u001b[43m(\u001b[49m\u001b[38;5;28;43mself\u001b[39;49m\u001b[38;5;241;43m.\u001b[39;49m\u001b[43m_zero_grad_profile_name\u001b[49m\u001b[43m)\u001b[49m:\n\u001b[0;32m    268\u001b[0m     \u001b[38;5;28;01mfor\u001b[39;00m group \u001b[38;5;129;01min\u001b[39;00m \u001b[38;5;28mself\u001b[39m\u001b[38;5;241m.\u001b[39mparam_groups:\n\u001b[0;32m    269\u001b[0m         \u001b[38;5;28;01mfor\u001b[39;00m p \u001b[38;5;129;01min\u001b[39;00m group[\u001b[38;5;124m'\u001b[39m\u001b[38;5;124mparams\u001b[39m\u001b[38;5;124m'\u001b[39m]:\n",
      "File \u001b[1;32mC:\\ProgramData\\anaconda3-64\\envs\\new_pytorch_env\\lib\\site-packages\\torch\\autograd\\profiler.py:485\u001b[0m, in \u001b[0;36mrecord_function.__init__\u001b[1;34m(self, name, args)\u001b[0m\n\u001b[0;32m    482\u001b[0m \u001b[38;5;28mself\u001b[39m\u001b[38;5;241m.\u001b[39mrun_callbacks_on_exit: \u001b[38;5;28mbool\u001b[39m \u001b[38;5;241m=\u001b[39m \u001b[38;5;28;01mTrue\u001b[39;00m\n\u001b[0;32m    483\u001b[0m \u001b[38;5;66;03m# Stores underlying RecordFunction as a tensor. TODO: move to custom\u001b[39;00m\n\u001b[0;32m    484\u001b[0m \u001b[38;5;66;03m# class (https://github.com/pytorch/pytorch/issues/35026).\u001b[39;00m\n\u001b[1;32m--> 485\u001b[0m \u001b[38;5;28mself\u001b[39m\u001b[38;5;241m.\u001b[39mhandle: torch\u001b[38;5;241m.\u001b[39mTensor \u001b[38;5;241m=\u001b[39m \u001b[43mtorch\u001b[49m\u001b[38;5;241;43m.\u001b[39;49m\u001b[43mzeros\u001b[49m\u001b[43m(\u001b[49m\u001b[38;5;241;43m1\u001b[39;49m\u001b[43m)\u001b[49m\n",
      "\u001b[1;31mKeyboardInterrupt\u001b[0m: "
     ]
    }
   ],
   "source": [
    "import sys\n",
    "\n",
    "lstm = nn.LSTM(input_size=600, hidden_size=50, num_layers=1, bidirectional=True)\n",
    "lstm.to(\"cuda:0\")\n",
    "linear = nn.Linear(100, 3)\n",
    "linear.to(\"cuda:0\")\n",
    "relu = nn.Softmax(dim=0)\n",
    "relu.to(\"cuda:0\")\n",
    "optimizer = optim.AdamW(lstm.parameters(), weight_decay=1e-3, lr=1e-4)\n",
    "loss_fn = nn.CrossEntropyLoss()\n",
    "\n",
    "batch_size = 1\n",
    "\n",
    "lstm.train()\n",
    "for epoch in range(1000):\n",
    "    total_loss = 0\n",
    "    global_start = time.time()\n",
    "    percentage_str = \"\"\n",
    "    batches_time = 0\n",
    "    Ypred = torch.tensor([])\n",
    "    for i in range(int(len(Xtrain) / batch_size)):\n",
    "        start = time.time()\n",
    "        percentage = i / int(len(Xtrain) / batch_size)\n",
    "        if len(X[i * batch_size:]) >= batch_size:\n",
    "            batch = Xtrain[i * batch_size : (i + 1) * batch_size]\n",
    "        else:\n",
    "            batch = Xtrain[i * batch_size:]\n",
    "        optimizer.zero_grad()\n",
    "        for x in batch:\n",
    "            hidden = (\n",
    "                torch.rand(1 * 2, 50, device='cuda:0'),\n",
    "                torch.rand(1 * 2, 50, device='cuda:0')\n",
    "            )\n",
    "            x = np.array(x)\n",
    "            out, _ = lstm(torch.cuda.FloatTensor(x, device='cuda:0'), hidden)\n",
    "            out = linear(out[-1])\n",
    "            out = relu(out)\n",
    "            yPred = out\n",
    "            Ypred = torch.cat((Ypred, yPred.detach().cpu().reshape(1, 3)), 0)\n",
    "            loss = loss_fn(yPred, Ytrain[i]) * 1000 / len(Xtrain)\n",
    "            total_loss += loss.item()\n",
    "            loss.backward()\n",
    "        optimizer.step()\n",
    "        end = time.time()\n",
    "        batches_time += end - start\n",
    "        if batches_time >= 0.2:\n",
    "            sys.stdout.write(\" \" * len(percentage_str) + '\\r')\n",
    "            percentage_str = f\"Epoch {epoch}: {percentage * 100}%, Time: {end - global_start}s, Loss: {total_loss / (i + 1) / batch_size}\"\n",
    "            sys.stdout.write(percentage_str + '\\r')\n",
    "            sys.stdout.flush()\n",
    "            batches_time = 0\n",
    "    total_loss /= len(Xtrain)\n",
    "    sys.stdout.write(\" \" * len(percentage_str) + '\\r')\n",
    "    _accuracy, ria, inter, rbc = accuracy(Ytrain, Ypred, Strain)\n",
    "    val_accuracy, val_ria, val_inter, val_rbc = calculate_and_accuracy(Xval, Yval, Sval, lstm, linear, relu)\n",
    "    global_end = time.time()\n",
    "    if epoch % 10 == 0 and epoch != 0:\n",
    "        torch.save(lstm, f\"lstm{epoch}.model\")\n",
    "        torch.save(linear, f\"linear{epoch}.model\")\n",
    "    sys.stdout.write(\" \" * len(percentage_str) + '\\r')\n",
    "    print(f\"Epoch {epoch}: Time: {global_end - global_start}s: Loss: {total_loss} Accuracy: {_accuracy}, Validation accuracy: {val_accuracy}\")\n",
    "    #print(f\"Ria: {ria}, Interfax: {inter}, Rbc: {rbc}\")    \n",
    "    #print(f\"ValRia: {val_ria}, ValInterfax: {val_inter}, ValRbc: {val_rbc}\")"
   ]
  },
  {
   "cell_type": "code",
   "execution_count": null,
   "id": "be794bff",
   "metadata": {},
   "outputs": [],
   "source": [
    "accuracy(Xtest, Ytest, Stest, lstm, linear, relu)"
   ]
  },
  {
   "cell_type": "code",
   "execution_count": 203,
   "id": "1da962a5",
   "metadata": {},
   "outputs": [],
   "source": [
    "torch.save(lstm, f\"lstmAdamWLr0_01VecSize600Acc83_4.model\")\n",
    "torch.save(linear, f\"linearAdamWLr0_01VecSize600Acc83_4.model\")"
   ]
  },
  {
   "cell_type": "code",
   "execution_count": null,
   "id": "179ed400",
   "metadata": {},
   "outputs": [],
   "source": []
  }
 ],
 "metadata": {
  "kernelspec": {
   "display_name": "Python 3 (ipykernel)",
   "language": "python",
   "name": "python3"
  },
  "language_info": {
   "codemirror_mode": {
    "name": "ipython",
    "version": 3
   },
   "file_extension": ".py",
   "mimetype": "text/x-python",
   "name": "python",
   "nbconvert_exporter": "python",
   "pygments_lexer": "ipython3",
   "version": "3.8.16"
  }
 },
 "nbformat": 4,
 "nbformat_minor": 5
}
