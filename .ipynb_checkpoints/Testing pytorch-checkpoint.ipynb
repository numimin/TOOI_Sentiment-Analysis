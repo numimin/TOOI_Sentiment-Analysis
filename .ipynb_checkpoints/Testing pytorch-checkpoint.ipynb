{
 "cells": [
  {
   "cell_type": "code",
   "execution_count": 1,
   "id": "24e1f89d",
   "metadata": {},
   "outputs": [
    {
     "name": "stdout",
     "output_type": "stream",
     "text": [
      "1.13.1\n"
     ]
    }
   ],
   "source": [
    "import torch\n",
    "import numpy\n",
    "print(torch.__version__)"
   ]
  },
  {
   "cell_type": "code",
   "execution_count": 2,
   "id": "7025861d",
   "metadata": {},
   "outputs": [
    {
     "name": "stdout",
     "output_type": "stream",
     "text": [
      "11.6\n"
     ]
    }
   ],
   "source": [
    "print(torch.version.cuda)"
   ]
  },
  {
   "cell_type": "code",
   "execution_count": 3,
   "id": "0293071f",
   "metadata": {},
   "outputs": [],
   "source": [
    "cuda = torch.device('cuda')"
   ]
  },
  {
   "cell_type": "code",
   "execution_count": 58,
   "id": "8eb905e1",
   "metadata": {},
   "outputs": [
    {
     "name": "stdout",
     "output_type": "stream",
     "text": [
      "280.2806927606512\n"
     ]
    }
   ],
   "source": [
    "import csv\n",
    "import sys\n",
    "\n",
    "csv.field_size_limit(int(sys.maxsize / 100000000000))\n",
    "texts = []\n",
    "signs = []\n",
    "dates = []\n",
    "with open('./signed.csv', encoding='utf-8') as csvfile:\n",
    "    reader = csv.reader(csvfile, delimiter=',')\n",
    "    for row in reader:\n",
    "        texts.append(row[2])\n",
    "        signs.append(row[5])\n",
    "        dates.append(row[1])\n",
    "signs = signs[1:]\n",
    "word_counts = []\n",
    "for text in texts:\n",
    "    words = text.split()\n",
    "    word_counts.append(len(words))\n",
    "print(sum(word_counts) / len(word_counts))"
   ]
  },
  {
   "cell_type": "code",
   "execution_count": 50,
   "id": "b6e710a1",
   "metadata": {},
   "outputs": [
    {
     "name": "stdout",
     "output_type": "stream",
     "text": [
      "57.23228359222412\n"
     ]
    }
   ],
   "source": [
    "import numpy as np\n",
    "from gensim.models import Word2Vec\n",
    "import time\n",
    "\n",
    "sentences = []\n",
    "for text in texts:\n",
    "    sentences.append(text.split(' '))\n",
    "start = time.time()\n",
    "model = Word2Vec(sentences=sentences, vector_size=50, window=5, min_count=1, workers=20)\n",
    "model.save(\"word2vec.model\")\n",
    "end = time.time()\n",
    "print(end - start)"
   ]
  },
  {
   "cell_type": "code",
   "execution_count": 51,
   "id": "16edfae3",
   "metadata": {},
   "outputs": [
    {
     "name": "stdout",
     "output_type": "stream",
     "text": [
      "[('нефт', 0.8209059238433838), ('топлив', 0.7905386090278625), ('энергоресурс', 0.7817306518554688), ('электроэнерг', 0.7672789692878723), ('энергоносител', 0.7601390480995178), ('нефтепродукт', 0.7598806619644165), ('спг', 0.7489987015724182), ('пхг', 0.7378606200218201), ('трубопроводн', 0.727728545665741), ('газов', 0.7272487878799438)]\n"
     ]
    }
   ],
   "source": [
    "print(model.wv.most_similar('газ'))"
   ]
  },
  {
   "cell_type": "code",
   "execution_count": 66,
   "id": "46807aeb",
   "metadata": {},
   "outputs": [],
   "source": [
    "vectors = []\n",
    "for text in texts[1:]:\n",
    "    vectors.append([model.wv[w] for w in text.split(' ')])"
   ]
  },
  {
   "cell_type": "code",
   "execution_count": 67,
   "id": "c2a50492",
   "metadata": {},
   "outputs": [],
   "source": [
    "import torch\n",
    "import torch.nn as nn\n",
    "import torch.optim as optim\n",
    "\n",
    "count = int(len(vectors) * 0.7)\n",
    "X = vectors\n",
    "classes = [-1, 0, 1]\n",
    "for i in range(len(signs)):\n",
    "    signs[i] = int(signs[i])\n",
    "y = torch.zeros(len(vectors), 3, device='cuda:0')\n",
    "for i in range(len(vectors)):\n",
    "    y[i][classes.index(signs[i])] = 1"
   ]
  },
  {
   "cell_type": "code",
   "execution_count": 89,
   "id": "88142c20",
   "metadata": {},
   "outputs": [],
   "source": [
    "#indices = [i for i in range(len(X)) if len(X[i]) > 1000]\n",
    "#X = [X[i] for i in range(len(X)) if not i in indices]\n",
    "#y = [y[i] for i in range(len(y)) if not i in indices]\n",
    "#unique_date_and_sign = {(dates[i], signs[i]): i for i in range(len(X))}\n",
    "#indices = unique_date_and_sign.values()\n",
    "#X = [X[i] for i in range(len(X)) if i in indices]\n",
    "#y = [y[i] for i in range(len(y)) if i in indices]\n",
    "#print(len(X))\n",
    "#print(len(y))\n",
    "import random\n",
    "\n",
    "def shuffle(X, y):\n",
    "    indices = [i for i in range(len(X))]\n",
    "    random.shuffle(indices)\n",
    "    X = [X[i] for i in indices]\n",
    "    y = [y[i] for i in indices]\n",
    "    return (X, y)\n",
    "X, y = shuffle(X, y)\n",
    "val_count = int(len(vectors) * 0.8)\n",
    "Xtrain, Xval, Xtest = X[:count], X[count:val_count], X[val_count:]\n",
    "Ytrain, Yval, Ytest = y[:count], y[count:val_count], y[val_count:]"
   ]
  },
  {
   "cell_type": "code",
   "execution_count": 74,
   "id": "13ce2d68",
   "metadata": {},
   "outputs": [],
   "source": [
    "#TODO: change lstm, linear, relu to model\n",
    "def accuracy(Xtrain, Ytrain, lstm, linear, relu):\n",
    "    count = 0\n",
    "    for i in range(len(Xtrain)):\n",
    "        hidden = (\n",
    "            torch.rand(1, 100, device='cuda:0'),\n",
    "            torch.rand(1, 100, device='cuda:0')\n",
    "        )\n",
    "        x = Xtrain[i]\n",
    "        x = np.array(x)\n",
    "        _, hidden = lstm(torch.cuda.FloatTensor(x, device='cuda:0'), hidden)\n",
    "        out = linear(hidden[0])\n",
    "        out = relu(out)\n",
    "        yPred = out\n",
    "        yPred = yPred.reshape(-1)\n",
    "        _max = 0\n",
    "        j_max = 0\n",
    "        for j in range(len(yPred)):\n",
    "            if _max < yPred[j]:\n",
    "                _max = yPred[j]\n",
    "                j_max = j\n",
    "        if Ytrain[i][j_max] == 1:\n",
    "            count += 1\n",
    "    return count / len(Xtrain)"
   ]
  },
  {
   "cell_type": "code",
   "execution_count": null,
   "id": "387832a1",
   "metadata": {},
   "outputs": [],
   "source": [
    "lstm = nn.LSTM(input_size=50, hidden_size=100, num_layers=1)\n",
    "lstm.to(\"cuda:0\")\n",
    "linear = nn.Linear(100, 3)\n",
    "linear.to(\"cuda:0\")\n",
    "relu = nn.ReLU()\n",
    "relu.to(\"cuda:0\")\n",
    "optimizer = optim.Adam(lstm.parameters())\n",
    "loss_fn = nn.MSELoss()\n",
    "\n",
    "lstm.train()\n",
    "for epoch in range(1000):\n",
    "    total_loss = 0\n",
    "    global_start = time.time()\n",
    "    for i in range(len(Xtrain)):\n",
    "        hidden = (\n",
    "            torch.rand(1, 100, device='cuda:0'),\n",
    "            torch.rand(1, 100, device='cuda:0')\n",
    "        )\n",
    "        x = Xtrain[i]\n",
    "        x = np.array(x)\n",
    "        _, hidden = lstm(torch.cuda.FloatTensor(x, device='cuda:0'), hidden)\n",
    "        out = linear(hidden[0])\n",
    "        out = relu(out)\n",
    "        yPred = out\n",
    "        loss = loss_fn(yPred, Ytrain[i].reshape(1, 3))\n",
    "        total_loss += loss.item()\n",
    "        optimizer.zero_grad()\n",
    "        loss.backward()\n",
    "        optimizer.step()\n",
    "    total_loss /= len(Xtrain)\n",
    "    _accuracy = accuracy(Xtrain, Ytrain, lstm, linear, relu)\n",
    "    val_accuracy = accuracy(Xval, Yval, lstm, linear, relu)\n",
    "    global_end = time.time()\n",
    "    if epoch % 50 == 0 and epoch != 0:\n",
    "        torch.save(lstm, f\"lstm{epoch}.model\")\n",
    "        torch.save(linear, f\"linear{epoch}.model\")\n",
    "    print(f\"Epoch {epoch}: Time: {global_end - global_start}s: Loss: {total_loss} Accuracy: {_accuracy}, Validation accuracy: {val_accuracy}\")"
   ]
  },
  {
   "cell_type": "code",
   "execution_count": null,
   "id": "b88747b3",
   "metadata": {},
   "outputs": [],
   "source": []
  }
 ],
 "metadata": {
  "kernelspec": {
   "display_name": "Python 3 (ipykernel)",
   "language": "python",
   "name": "python3"
  },
  "language_info": {
   "codemirror_mode": {
    "name": "ipython",
    "version": 3
   },
   "file_extension": ".py",
   "mimetype": "text/x-python",
   "name": "python",
   "nbconvert_exporter": "python",
   "pygments_lexer": "ipython3",
   "version": "3.8.16"
  }
 },
 "nbformat": 4,
 "nbformat_minor": 5
}
