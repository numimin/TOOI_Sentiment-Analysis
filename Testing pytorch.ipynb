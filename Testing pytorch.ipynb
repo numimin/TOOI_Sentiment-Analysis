{
 "cells": [
  {
   "cell_type": "code",
   "execution_count": 1,
   "id": "24e1f89d",
   "metadata": {},
   "outputs": [
    {
     "name": "stdout",
     "output_type": "stream",
     "text": [
      "1.13.1\n"
     ]
    }
   ],
   "source": [
    "import torch\n",
    "import numpy\n",
    "print(torch.__version__)"
   ]
  },
  {
   "cell_type": "code",
   "execution_count": 2,
   "id": "7025861d",
   "metadata": {},
   "outputs": [
    {
     "name": "stdout",
     "output_type": "stream",
     "text": [
      "11.6\n"
     ]
    }
   ],
   "source": [
    "print(torch.version.cuda)"
   ]
  },
  {
   "cell_type": "code",
   "execution_count": 3,
   "id": "d62dc8f8",
   "metadata": {},
   "outputs": [],
   "source": [
    "import navec"
   ]
  },
  {
   "cell_type": "code",
   "execution_count": 4,
   "id": "0293071f",
   "metadata": {},
   "outputs": [],
   "source": [
    "cuda = torch.device('cuda')"
   ]
  },
  {
   "cell_type": "code",
   "execution_count": 5,
   "id": "8eb905e1",
   "metadata": {},
   "outputs": [
    {
     "name": "stdout",
     "output_type": "stream",
     "text": [
      "«ментовск войны» обошл приквел «игр престолов» пиратск ссылк российск сериал «тайн следствия» «ментовск войны» стал лидер числ пиратск ссылок сет оперед приквел «игр престолов» аналитик объясня эт выход нов сезон «чисткой» друг нелегальн контент кадр сериа «тайн следствия» фот студ «панорама» начал год проект холдинг вгтрк «тайн следствия» «ментовск войны» возглав рейтинг фильм сериал количеств ссылок размещен пиратск ресурс так дан рбк представ компан contentscan занима защит аудиовизуальн контент нелегальн распространен перв квартал эт год аналитик contentscan выяв сет тыс ссылок пиратск ресурс где был доступн просмотр скачиван «тайн следствия» тыс ссылок «ментовск войнами» российск сериал числ нелегальн ссылок обошл приквел «игр престолов» — проект «дом дракона» котор был доступ тыс пиратск сайт финальн эпизод эт сериа стал сам просматрива шо американск кана hbo посл «игр престолов» ноч релиз ег посмотрел млн человек «дом дракона» оказа популярн спецвыпуск «гарр поттера» adv rbc ru adv rbc ru adv rbc ru счита сервис contentscan помощ собствен автоматизирова систем проанализирова количеств ссылок котор нелегальн доступн фильм сериал интернет изуча результат поисков систем «яндекс» google выборк попа те проект котор росс ест официальн правообладател например новинк студ disney warner bros вышедш посл уход эт компан российск рынк март год учитыва собствен дан систем contentscan выявля так ссылок услуг contentscan выявлен блокирован нелегальн распространя контент польз том числ холдинг вгтрк видеосервис amediateka «кинопоиск» студ «союзмультфильм» основ дан количеств найден ссылок конкретн фильм сериал contentscan сформирова рейтинг сам популярн кин распространител пиратск контент adv rbc ru adv rbc ru adv rbc ru топ количеств найден contentscan пиратск ссылок итог перв кварта год вошл российск сериал «водоворот» тыс ссылок «ликвидация» тыс ссылок российск украинск сериа «по закон воен времени» тыс ссылок начал прошл год ситуац был ин вся десятк лидер пиратск ресурс был представл фильм сериал иностра производств сам ссылок был порядок больш рейтинг возглавля фильм «неудержимые» тыс ссылок перв квартал го дал следова триллер «кров деньги» тыс замыка тройк лидер «укрощен строптивого» тыс поменя числ зарубежн фильм онлайн кинотеатр инфографик поч пират заинтересова «ментовск войнами» внезапн рост интерес пират проект вгтрк contentscan связыва перв очеред выход нов сезон эт сериал «идет официальн реклам пират затравк привлечен зрител нов круг выкладыва стар сезон зрител освежа памят сюжет» — объясня представител компан количеств пиратск ссылок напрям связа интерес аудитор том ин проект утвержда contentscan этот интерес выш больш распространя конкретн фильм сериа ресурс сокращен количеств нелегальн ссылок фильм сериал котор лидирова пират год contentscan объясня общ снижен интерес зрител эт проект так активн работ «вычищению» так ресурс так январ март год «яндекса» был удал больш млн пиратск ссылок google — млн представител contentscan поясн сотрудничеств google част борьб нелегальн контент продолжа пресс служб вгтрк запрос рбк причин рост интерес пират е сериал ответ так же поступ компан star media котор выступа правообладател большинств проект рейтинг наибол популярн пират включ «по закон воен времени» сервис amediateka одн юрлиц сервис принадлежат прав «дом дракона» росс отказа комментар говор участник рынк ситуац пиратств сейчас борот пиратств правообладател могут обрат непосредствен распространител нелегальн контент требован удал фильм пода иск суд — эт основн мер закреплен законодательн уровн перечисля адвокат pen & paper виктор рык эффективн эт мер огранич техническ возможн пиратск ресурс оперативн создава сайт зерка перевод пользовательск баз нов интернет адрес «справедлив оцен динамик количеств судебн дел связа нелегальн распространен контент — рбк достаточн сложн — призна рык — то же врем расцвет пиратск ресурс фон уход иностра правообладател созда удобн инфраструктур нарушител авторск прав уж отношен российск контенту» вестерос прот средизем смотрел «дом дракона» «кольц власти» рост востребован пиратск ресурс напрям повлия отсутств легальн прокат стримингов сервис западн новинок соглас директор институт современ мед кирилл тана зрител ег слов привык так контент «тепер потребля ег легальн сервис пиратск ресурс торренты» попадан перечен наибол популярн пират проект сериал вгтрк тана удивл так обычн ег слов подобн ресурс использ поиск «наибол популярн фильм сериал котор друг посмотрет неудобн вовс невозможно» «по пиратств росс больш всег нанесл удар борьб нелегальн контент vk действ правообладател вычища нелегальн коп прокатн фильм — отмеча тана — системн пиратств можн борот комплексн стимулиру развит легальн удобн сервис тут проблем законодательств совокупн фактор пиратск сервис будут расти» «газпр медиа» объединя том числ телеканал тнт «матч тв» «пятниц » студ production др счита борот пиратств нужн интернет офлайн сегмент например кинотеатр бар котор нелегальн показыва спортивн трансляц оценк холдинг ег борьб распространен пиратск контент позвол предотврат ущерб компан «сотн миллион рублей» рост пиратск спрос собствен контент уж фиксир национальн мед групп нмг полност частичн владеет том числ «перв каналом» рен тв «стс медиа» кинокомпан art pictures studio всплеск нарушен чащ всег приход выпуск премьерн ситком оригинальн проект компан эт нмг отмеча «высок эффективность» так называ антипиратск меморандум «индустр единогласн поддержива скор принят законопроект закрепля ег положения» работа антипиратск меморандум так называ меморандум сотрудничеств сфер охра исключительн прав эпох развит цифров технолог был заключ ноябр год фон судебн разбирательств телеканал котор вход холдинг «газпр медиа» тот момент тнт тв « » «супер» «яндексом» повод разбирательств стал ссылк пиратск контент сервис «яндекс видео» меморандум предполага создан реестр указател страниц сайт интернет котор распространя пиратск контент внесен реестр ссылк автоматическ удаля выдач поисков ресурс сообщ рбк пресс служб «яндекса» перв кварта год российск правообладател внесл реестр меморандум млн ссылок сайт нелегальн контент суммарн дан март их бол млн меморандум был подписа большинств крупн представител мед телек индустр нем присоедин том числ «перв канал» вгтрк «стс медиа» нмг «газпр медиа» ассоциац «интернет видео» объединя ряд крупн российск онлайн кинотеатр «яндекс» мен законодательн уровн механизм работ меморандум закрепл присоединен нем явля добровольн интернет пиратств сериа «игр престолов» кин\n",
      "0\n",
      "rbc\n",
      "2023-04-12\n",
      "359.8636177494369\n"
     ]
    }
   ],
   "source": [
    "import csv\n",
    "import sys\n",
    "\n",
    "csv.field_size_limit(int(sys.maxsize / 100000000000))\n",
    "texts = []\n",
    "signs = []\n",
    "dates = []\n",
    "sites = []\n",
    "with open('./signed_stem.csv', encoding='utf-8') as csvfile:\n",
    "    reader = csv.reader(csvfile, delimiter=',')\n",
    "    for row in reader:\n",
    "        if row[4] == 'interfax':\n",
    "            continue\n",
    "        texts.append(row[3])\n",
    "        signs.append(row[8])\n",
    "        dates.append(row[2])\n",
    "        sites.append(row[4])\n",
    "signs = signs[1:]\n",
    "print(texts[1])\n",
    "print(signs[1])\n",
    "print(sites[1])\n",
    "print(dates[1])\n",
    "word_counts = []\n",
    "for text in texts:\n",
    "    words = text.split()\n",
    "    word_counts.append(len(words))\n",
    "print(sum(word_counts) / len(word_counts))"
   ]
  },
  {
   "cell_type": "code",
   "execution_count": 6,
   "id": "b6e710a1",
   "metadata": {},
   "outputs": [
    {
     "name": "stderr",
     "output_type": "stream",
     "text": [
      "C:\\ProgramData\\anaconda3-64\\envs\\new_pytorch_env\\lib\\site-packages\\gensim\\similarities\\__init__.py:15: UserWarning: The gensim.similarities.levenshtein submodule is disabled, because the optional Levenshtein package <https://pypi.org/project/python-Levenshtein/> is unavailable. Install Levenhstein (e.g. `pip install python-Levenshtein`) to suppress this warning.\n",
      "  warnings.warn(msg)\n"
     ]
    },
    {
     "name": "stdout",
     "output_type": "stream",
     "text": [
      "54.09370040893555\n"
     ]
    }
   ],
   "source": [
    "import numpy as np\n",
    "from gensim.models import Word2Vec\n",
    "import time\n",
    "\n",
    "sentences = [text.split(' ') for text in texts]\n",
    "start = time.time()\n",
    "model = Word2Vec(sentences=sentences, vector_size=600, window=5, min_count=2, workers=20)\n",
    "model.save(\"word2vec.model\")\n",
    "end = time.time()\n",
    "print(end - start)\n",
    "#from navec import Navec\n",
    "#path = 'navec_hudlit_v1_12B_500K_300d_100q.tar'\n",
    "#navec = Navec.load(path)"
   ]
  },
  {
   "cell_type": "code",
   "execution_count": 7,
   "id": "46807aeb",
   "metadata": {},
   "outputs": [],
   "source": [
    "vectors = [[model.wv[w] for w in text.split(' ') if w in model.wv] for text in texts[1:]]"
   ]
  },
  {
   "cell_type": "code",
   "execution_count": 8,
   "id": "c2a50492",
   "metadata": {},
   "outputs": [],
   "source": [
    "import torch\n",
    "import torch.nn as nn\n",
    "import torch.optim as optim\n",
    "\n",
    "X = vectors\n",
    "classes = [-1, 0, 1]\n",
    "for i in range(len(signs)):\n",
    "    signs[i] = int(signs[i])\n",
    "y = torch.zeros(len(vectors), 3, device='cuda:0')\n",
    "for i in range(len(vectors)):\n",
    "    y[i][classes.index(signs[i])] = 1"
   ]
  },
  {
   "cell_type": "code",
   "execution_count": 9,
   "id": "ba156a07",
   "metadata": {},
   "outputs": [
    {
     "name": "stdout",
     "output_type": "stream",
     "text": [
      "3685\n",
      "3685\n"
     ]
    }
   ],
   "source": [
    "unique_date_and_sign = {(dates[i], signs[i]): i for i in range(len(X))}\n",
    "indices = set(unique_date_and_sign.values())\n",
    "Xr = [X[i] for i in range(len(X)) if i in indices]\n",
    "yr = [y[i] for i in range(len(y)) if i in indices]\n",
    "sitesr = [sites[i] for i in range(len(sites)) if i in indices]\n",
    "print(len(Xr))\n",
    "print(len(yr))\n",
    "\n",
    "import random\n",
    "\n",
    "def shuffle(X, y, sites):\n",
    "    indices = [i for i in range(len(X))]\n",
    "    random.shuffle(indices)\n",
    "    X = [X[i] for i in indices]\n",
    "    y = [y[i] for i in indices]\n",
    "    sites = [sites[i] for i in indices]\n",
    "    return (X, y, sites)\n",
    "X, y, newSites = shuffle(X, y, sites)\n",
    "Xr, yr, newSitesr = shuffle(Xr, yr, sitesr)"
   ]
  },
  {
   "cell_type": "code",
   "execution_count": 10,
   "id": "f43c29eb",
   "metadata": {},
   "outputs": [],
   "source": [
    "count = int(len(Xr) * 0.7)\n",
    "val_count = int(len(Xr) * 0.8)\n",
    "Xtrain, Xval, Xtest = Xr[:count], Xr[count:val_count], Xr[val_count:]\n",
    "Ytrain, Yval, Ytest = yr[:count], yr[count:val_count], yr[val_count:]"
   ]
  },
  {
   "cell_type": "code",
   "execution_count": 11,
   "id": "764a1193",
   "metadata": {},
   "outputs": [],
   "source": [
    "Strain, Sval, Stest = newSitesr[:count], newSitesr[count:val_count], newSitesr[val_count:]"
   ]
  },
  {
   "cell_type": "code",
   "execution_count": 113,
   "id": "3555f2b5",
   "metadata": {},
   "outputs": [],
   "source": [
    "count = int(len(X) * 0.7)\n",
    "val_count = int(len(X) * 0.8)\n",
    "Xtrain, Xval, Xtest = X[:count], X[count:val_count], X[val_count:]\n",
    "Ytrain, Yval, Ytest = y[:count], y[count:val_count], y[val_count:]"
   ]
  },
  {
   "cell_type": "code",
   "execution_count": 114,
   "id": "ff706aed",
   "metadata": {},
   "outputs": [],
   "source": [
    "Strain, Sval, Stest = newSites[:count], newSites[count:val_count], newSites[val_count:]"
   ]
  },
  {
   "cell_type": "code",
   "execution_count": 117,
   "id": "0ff8294a",
   "metadata": {},
   "outputs": [],
   "source": [
    "#TODO: change lstm, linear, relu to model\n",
    "def accuracy(Ytrain, Ypred, sites):\n",
    "    count = 0\n",
    "    ria = 0\n",
    "    interfax = 0\n",
    "    rbc = 0\n",
    "    percentage_str = \"\"\n",
    "    \n",
    "    for i in range(len(Ytrain)):\n",
    "        _max = 0\n",
    "        j_max = 0\n",
    "        for j in range(len(Ypred[i])):\n",
    "            if _max < yPred[j]:\n",
    "                _max = yPred[j]\n",
    "                j_max = j\n",
    "        if Ytrain[i][j_max] == 1:\n",
    "            count += 1\n",
    "        else:\n",
    "            if sites[i] == 'ria':\n",
    "                ria += 1\n",
    "            if sites[i] == 'interfax':\n",
    "                interfax += 1\n",
    "            if sites[i] == 'rbc':\n",
    "                rbc += 1\n",
    "    return count / len(Xtrain), ria / len(Xtrain), interfax / len(Xtrain), rbc / len(Xtrain)\n",
    "\n",
    "def calculate_and_accuracy(Xtrain, Ytrain, sites, lstm, linear, relu):\n",
    "    count = 0\n",
    "    ria = 0\n",
    "    interfax = 0\n",
    "    rbc = 0\n",
    "    for i in range(len(Xtrain)):\n",
    "        hidden = (\n",
    "            torch.rand(1 * 2, 50, device='cuda:0'),\n",
    "            torch.rand(1 * 2, 50, device='cuda:0')\n",
    "        )\n",
    "        x = Xtrain[i]\n",
    "        x = np.array(x)\n",
    "        out, _ = lstm(torch.cuda.FloatTensor(x, device='cuda:0'), hidden)\n",
    "        out = linear(out[-1])\n",
    "        out = relu(out)\n",
    "        yPred = out\n",
    "        yPred = yPred.reshape(-1)\n",
    "        _max = 0\n",
    "        j_max = 0\n",
    "        for j in range(len(yPred)):\n",
    "            if _max < yPred[j]:\n",
    "                _max = yPred[j]\n",
    "                j_max = j\n",
    "        if Ytrain[i][j_max] == 1:\n",
    "            count += 1\n",
    "        else:\n",
    "            if sites[i] == 'ria':\n",
    "                ria += 1\n",
    "            if sites[i] == 'interfax':\n",
    "                interfax += 1\n",
    "            if sites[i] == 'rbc':\n",
    "                rbc += 1\n",
    "    return count / len(Xtrain), ria / len(Xtrain), interfax / len(Xtrain), rbc / len(Xtrain)"
   ]
  },
  {
   "cell_type": "code",
   "execution_count": 12,
   "id": "387832a1",
   "metadata": {},
   "outputs": [
    {
     "name": "stdout",
     "output_type": "stream",
     "text": [
      "                                                                                  \r"
     ]
    },
    {
     "ename": "NameError",
     "evalue": "name 'accuracy' is not defined",
     "output_type": "error",
     "traceback": [
      "\u001b[1;31m---------------------------------------------------------------------------\u001b[0m",
      "\u001b[1;31mNameError\u001b[0m                                 Traceback (most recent call last)",
      "Cell \u001b[1;32mIn[12], line 54\u001b[0m\n\u001b[0;32m     52\u001b[0m total_loss \u001b[38;5;241m/\u001b[39m\u001b[38;5;241m=\u001b[39m \u001b[38;5;28mlen\u001b[39m(Xtrain)\n\u001b[0;32m     53\u001b[0m sys\u001b[38;5;241m.\u001b[39mstdout\u001b[38;5;241m.\u001b[39mwrite(\u001b[38;5;124m\"\u001b[39m\u001b[38;5;124m \u001b[39m\u001b[38;5;124m\"\u001b[39m \u001b[38;5;241m*\u001b[39m \u001b[38;5;28mlen\u001b[39m(percentage_str) \u001b[38;5;241m+\u001b[39m \u001b[38;5;124m'\u001b[39m\u001b[38;5;130;01m\\r\u001b[39;00m\u001b[38;5;124m'\u001b[39m)\n\u001b[1;32m---> 54\u001b[0m _accuracy, ria, inter, rbc \u001b[38;5;241m=\u001b[39m \u001b[43maccuracy\u001b[49m(Ytrain, Ypred, Strain)\n\u001b[0;32m     55\u001b[0m val_accuracy, val_ria, val_inter, val_rbc \u001b[38;5;241m=\u001b[39m calculate_and_accuracy(Xval, Yval, Sval, lstm, linear, relu)\n\u001b[0;32m     56\u001b[0m global_end \u001b[38;5;241m=\u001b[39m time\u001b[38;5;241m.\u001b[39mtime()\n",
      "\u001b[1;31mNameError\u001b[0m: name 'accuracy' is not defined"
     ]
    }
   ],
   "source": [
    "import sys\n",
    "\n",
    "lstm = nn.LSTM(input_size=600, hidden_size=50, num_layers=1, bidirectional=True)\n",
    "lstm.to(\"cuda:0\")\n",
    "linear = nn.Linear(100, 3)\n",
    "linear.to(\"cuda:0\")\n",
    "relu = nn.Softmax(dim=0)\n",
    "relu.to(\"cuda:0\")\n",
    "optimizer = optim.AdamW(lstm.parameters(), weight_decay=1e-3, lr=1e-4)\n",
    "loss_fn = nn.CrossEntropyLoss()\n",
    "\n",
    "batch_size = 1\n",
    "\n",
    "lstm.train()\n",
    "for epoch in range(1000):\n",
    "    total_loss = 0\n",
    "    global_start = time.time()\n",
    "    percentage_str = \"\"\n",
    "    batches_time = 0\n",
    "    Ypred = torch.tensor([])\n",
    "    for i in range(int(len(Xtrain) / batch_size)):\n",
    "        start = time.time()\n",
    "        percentage = i / int(len(Xtrain) / batch_size)\n",
    "        if len(X[i * batch_size:]) >= batch_size:\n",
    "            batch = Xtrain[i * batch_size : (i + 1) * batch_size]\n",
    "        else:\n",
    "            batch = Xtrain[i * batch_size:]\n",
    "        optimizer.zero_grad()\n",
    "        for x in batch:\n",
    "            hidden = (\n",
    "                torch.rand(1 * 2, 50, device='cuda:0'),\n",
    "                torch.rand(1 * 2, 50, device='cuda:0')\n",
    "            )\n",
    "            x = np.array(x)\n",
    "            out, _ = lstm(torch.cuda.FloatTensor(x, device='cuda:0'), hidden)\n",
    "            out = linear(out[-1])\n",
    "            out = relu(out)\n",
    "            yPred = out\n",
    "            Ypred = torch.cat((Ypred, yPred.detach().cpu().reshape(1, 3)), 0)\n",
    "            loss = loss_fn(yPred, Ytrain[i]) * 1000 / len(Xtrain)\n",
    "            total_loss += loss.item()\n",
    "            loss.backward()\n",
    "        optimizer.step()\n",
    "        end = time.time()\n",
    "        batches_time += end - start\n",
    "        if batches_time >= 0.2:\n",
    "            sys.stdout.write(\" \" * len(percentage_str) + '\\r')\n",
    "            percentage_str = f\"Epoch {epoch}: {percentage * 100}%, Time: {end - global_start}s, Loss: {total_loss / (i + 1) / batch_size}\"\n",
    "            sys.stdout.write(percentage_str + '\\r')\n",
    "            sys.stdout.flush()\n",
    "            batches_time = 0\n",
    "    total_loss /= len(Xtrain)\n",
    "    sys.stdout.write(\" \" * len(percentage_str) + '\\r')\n",
    "    _accuracy, ria, inter, rbc = accuracy(Ytrain, Ypred, Strain)\n",
    "    val_accuracy, val_ria, val_inter, val_rbc = calculate_and_accuracy(Xval, Yval, Sval, lstm, linear, relu)\n",
    "    global_end = time.time()\n",
    "    if epoch % 10 == 0 and epoch != 0:\n",
    "        torch.save(lstm, f\"lstm{epoch}.model\")\n",
    "        torch.save(linear, f\"linear{epoch}.model\")\n",
    "    sys.stdout.write(\" \" * len(percentage_str) + '\\r')\n",
    "    print(f\"Epoch {epoch}: Time: {global_end - global_start}s: Loss: {total_loss} Accuracy: {_accuracy}, Validation accuracy: {val_accuracy}\")\n",
    "    #print(f\"Ria: {ria}, Interfax: {inter}, Rbc: {rbc}\")    \n",
    "    #print(f\"ValRia: {val_ria}, ValInterfax: {val_inter}, ValRbc: {val_rbc}\")"
   ]
  },
  {
   "cell_type": "code",
   "execution_count": null,
   "id": "be794bff",
   "metadata": {},
   "outputs": [],
   "source": [
    "accuracy(Xtest, Ytest, Stest, lstm, linear, relu)"
   ]
  },
  {
   "cell_type": "code",
   "execution_count": 203,
   "id": "1da962a5",
   "metadata": {},
   "outputs": [],
   "source": [
    "torch.save(lstm, f\"lstmAdamWLr0_01VecSize600Acc83_4.model\")\n",
    "torch.save(linear, f\"linearAdamWLr0_01VecSize600Acc83_4.model\")"
   ]
  },
  {
   "cell_type": "code",
   "execution_count": null,
   "id": "4193124a",
   "metadata": {},
   "outputs": [],
   "source": []
  }
 ],
 "metadata": {
  "kernelspec": {
   "display_name": "Python 3 (ipykernel)",
   "language": "python",
   "name": "python3"
  },
  "language_info": {
   "codemirror_mode": {
    "name": "ipython",
    "version": 3
   },
   "file_extension": ".py",
   "mimetype": "text/x-python",
   "name": "python",
   "nbconvert_exporter": "python",
   "pygments_lexer": "ipython3",
   "version": "3.8.16"
  }
 },
 "nbformat": 4,
 "nbformat_minor": 5
}
