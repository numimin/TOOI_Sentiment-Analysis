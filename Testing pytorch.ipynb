{
 "cells": [
  {
   "cell_type": "code",
   "execution_count": 10,
   "id": "2e33f229",
   "metadata": {},
   "outputs": [
    {
     "name": "stdout",
     "output_type": "stream",
     "text": [
      "1.13.1\n"
     ]
    }
   ],
   "source": [
    "import torch\n",
    "import numpy\n",
    "print(torch.__version__)"
   ]
  },
  {
   "cell_type": "code",
   "execution_count": 11,
   "id": "e4e122c4",
   "metadata": {},
   "outputs": [
    {
     "name": "stdout",
     "output_type": "stream",
     "text": [
      "11.6\n"
     ]
    }
   ],
   "source": [
    "print(torch.version.cuda)"
   ]
  },
  {
   "cell_type": "code",
   "execution_count": 20,
   "id": "ae4e839e",
   "metadata": {},
   "outputs": [],
   "source": [
    "cuda = torch.device('cuda')"
   ]
  },
  {
   "cell_type": "code",
   "execution_count": 50,
   "id": "5ec7a094",
   "metadata": {},
   "outputs": [
    {
     "name": "stdout",
     "output_type": "stream",
     "text": [
      "6.539600133895874\n",
      "tensor(561369.1545, device='cuda:0', dtype=torch.float64)\n",
      "7.154883623123169\n"
     ]
    }
   ],
   "source": [
    "import time\n",
    "\n",
    "start = time.time()\n",
    "a_fulls = []\n",
    "b_fulls = []\n",
    "for i in range(100000):\n",
    "    a_fulls.append(torch.randn(100, 50, dtype=torch.double, device='cuda'))\n",
    "    b_fulls.append(torch.randn(50, dtype=torch.double, device='cuda'))\n",
    "torch.cuda.synchronize()\n",
    "    \n",
    "means = []\n",
    "for i in range(100000):\n",
    "    s = torch.cuda.Stream()\n",
    "    with torch.cuda.stream(s):\n",
    "        ab_full = a_fulls[i] @ b_fulls[i]\n",
    "        means.append(ab_full.abs().mean())\n",
    "end = time.time()\n",
    "print(end - start)\n",
    "s = 0\n",
    "for mean in means:\n",
    "    s += mean\n",
    "print(s)\n",
    "end = time.time()\n",
    "print(end - start)"
   ]
  },
  {
   "cell_type": "code",
   "execution_count": null,
   "id": "b6a58877",
   "metadata": {},
   "outputs": [],
   "source": []
  }
 ],
 "metadata": {
  "kernelspec": {
   "display_name": "Python 3 (ipykernel)",
   "language": "python",
   "name": "python3"
  },
  "language_info": {
   "codemirror_mode": {
    "name": "ipython",
    "version": 3
   },
   "file_extension": ".py",
   "mimetype": "text/x-python",
   "name": "python",
   "nbconvert_exporter": "python",
   "pygments_lexer": "ipython3",
   "version": "3.8.16"
  }
 },
 "nbformat": 4,
 "nbformat_minor": 5
}
