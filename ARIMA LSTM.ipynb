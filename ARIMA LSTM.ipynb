{
 "cells": [
  {
   "cell_type": "code",
   "execution_count": 2,
   "id": "20825574",
   "metadata": {},
   "outputs": [],
   "source": [
    "import torch.nn as nn\n",
    "import torch\n",
    "lstm = torch.load(f\"lstmAdamWLr0_01VecSize600Acc83_4.model\")\n",
    "linear = torch.load(f\"linearAdamWLr0_01VecSize600Acc83_4.model\")\n",
    "cuda = torch.device('cuda')"
   ]
  },
  {
   "cell_type": "code",
   "execution_count": 84,
   "id": "50b01e1b",
   "metadata": {},
   "outputs": [],
   "source": [
    "import csv\n",
    "import sys\n",
    "import datetime\n",
    "\n",
    "csv.field_size_limit(int(sys.maxsize / 100000000000))\n",
    "texts = []\n",
    "signs = []\n",
    "dates = []\n",
    "all_texts = []\n",
    "with open('./signed_stem.csv', encoding='utf-8') as csvfile:\n",
    "    reader = csv.reader(csvfile, delimiter=',')\n",
    "    for row in reader:\n",
    "        if row[2] == 'Date':\n",
    "            continue\n",
    "        all_texts.append(row[3])\n",
    "        date = datetime.datetime.strptime(row[2], \"%Y-%m-%d\")\n",
    "        if date >= datetime.datetime(2023, 1, 1):\n",
    "            dates.append(date)\n",
    "            texts.append(row[3])\n",
    "            signs.append(row[8])"
   ]
  },
  {
   "cell_type": "code",
   "execution_count": 5,
   "id": "82d2cc0b",
   "metadata": {},
   "outputs": [
    {
     "name": "stderr",
     "output_type": "stream",
     "text": [
      "C:\\ProgramData\\anaconda3-64\\envs\\new_pytorch_env\\lib\\site-packages\\gensim\\similarities\\__init__.py:15: UserWarning: The gensim.similarities.levenshtein submodule is disabled, because the optional Levenshtein package <https://pypi.org/project/python-Levenshtein/> is unavailable. Install Levenhstein (e.g. `pip install python-Levenshtein`) to suppress this warning.\n",
      "  warnings.warn(msg)\n"
     ]
    },
    {
     "name": "stdout",
     "output_type": "stream",
     "text": [
      "87.43183636665344\n"
     ]
    }
   ],
   "source": [
    "import numpy as np\n",
    "from gensim.models import Word2Vec\n",
    "import time\n",
    "\n",
    "sentences = [text.split(' ') for text in all_texts]\n",
    "start = time.time()\n",
    "model = Word2Vec(sentences=sentences, vector_size=600, window=5, min_count=2, workers=20)\n",
    "model.save(\"word2vec.model\")\n",
    "end = time.time()\n",
    "print(end - start)"
   ]
  },
  {
   "cell_type": "code",
   "execution_count": 17,
   "id": "a39950be",
   "metadata": {},
   "outputs": [],
   "source": [
    "vectors = [[model.wv[w] for w in text.split(' ') if w in model.wv] for text in texts]"
   ]
  },
  {
   "cell_type": "code",
   "execution_count": 18,
   "id": "4cfc30d1",
   "metadata": {},
   "outputs": [
    {
     "name": "stdout",
     "output_type": "stream",
     "text": [
      "[('газа»', 0.6546040177345276), ('энергоресурс', 0.5982034206390381), ('энергоносител', 0.5843496918678284), ('электроэнерг', 0.5358951091766357), ('газов', 0.5344403982162476), ('нефтепродукт', 0.49036934971809387), ('топлив', 0.4849530756473541), ('углеводород', 0.4789873957633972), ('спг', 0.4716060161590576), ('«газпром»', 0.46052709221839905)]\n"
     ]
    }
   ],
   "source": [
    "print(model.wv.most_similar('газ'))"
   ]
  },
  {
   "cell_type": "code",
   "execution_count": 19,
   "id": "a1e69df2",
   "metadata": {},
   "outputs": [],
   "source": [
    "import torch.optim as optim\n",
    "\n",
    "X = vectors\n",
    "classes = [-1, 0, 1]\n",
    "for i in range(len(signs)):\n",
    "    signs[i] = int(signs[i])\n",
    "y = torch.zeros(len(vectors), 3, device='cuda:0')\n",
    "for i in range(len(vectors)):\n",
    "    y[i][classes.index(signs[i])] = 1"
   ]
  },
  {
   "cell_type": "code",
   "execution_count": 21,
   "id": "f1d8b9a2",
   "metadata": {},
   "outputs": [],
   "source": [
    "count = int(len(X) * 0.7)\n",
    "val_count = int(len(X) * 0.8)"
   ]
  },
  {
   "cell_type": "code",
   "execution_count": 23,
   "id": "b382c9af",
   "metadata": {},
   "outputs": [],
   "source": [
    "relu = nn.Softmax(dim=0)\n",
    "relu.to(\"cuda:0\")\n",
    "\n",
    "Ypred = torch.tensor([])\n",
    "for i in range(len(X)):\n",
    "    hidden = (\n",
    "        torch.rand(1 * 2, 100, device='cuda:0'),\n",
    "        torch.rand(1 * 2, 100, device='cuda:0')\n",
    "    )\n",
    "    x = np.array(X[i])\n",
    "    out, _ = lstm(torch.cuda.FloatTensor(x, device='cuda:0'), hidden)\n",
    "    out = linear(out[-1])\n",
    "    out = relu(out)\n",
    "    yPred = out\n",
    "    Ypred = torch.cat((Ypred, yPred.detach().cpu().reshape(1, 3)), 0)"
   ]
  },
  {
   "cell_type": "code",
   "execution_count": 24,
   "id": "6402e98d",
   "metadata": {},
   "outputs": [],
   "source": [
    "def accuracy(Ytrain, Ypred):\n",
    "    count = 0\n",
    "    for i in range(len(Ytrain)):\n",
    "        _max = 0\n",
    "        j_max = 0\n",
    "        for j in range(len(Ypred[i])):\n",
    "            if _max < yPred[j]:\n",
    "                _max = yPred[j]\n",
    "                j_max = j\n",
    "        if Ytrain[i][j_max] == 1:\n",
    "            count += 1\n",
    "    return count / len(Xtrain)"
   ]
  },
  {
   "cell_type": "code",
   "execution_count": 25,
   "id": "47cbd35d",
   "metadata": {},
   "outputs": [
    {
     "data": {
      "text/plain": [
       "0.9760996183972686"
      ]
     },
     "execution_count": 25,
     "metadata": {},
     "output_type": "execute_result"
    }
   ],
   "source": [
    "accuracy(y, Ypred)"
   ]
  },
  {
   "cell_type": "code",
   "execution_count": 86,
   "id": "5deda108",
   "metadata": {},
   "outputs": [],
   "source": [
    "date_counts = {}\n",
    "date_score = {}\n",
    "classes = [-1, 0, 1]\n",
    "for i in range(len(y)):\n",
    "    date = dates[i]\n",
    "    if date in date_counts:\n",
    "        date_counts[date] += 1\n",
    "    else:\n",
    "        date_counts[date] = 0\n",
    "    if date in date_score:\n",
    "        date_score[date] += classes[torch.argmax(y[i]).item()]\n",
    "    else:\n",
    "        date_score[date] = 0\n",
    "for date in sorted(date_counts.keys()):\n",
    "    date_score[date] /= date_counts[date]"
   ]
  },
  {
   "cell_type": "code",
   "execution_count": 62,
   "id": "8a335eb2",
   "metadata": {},
   "outputs": [
    {
     "name": "stdout",
     "output_type": "stream",
     "text": [
      "sd\n"
     ]
    },
    {
     "ename": "KeyboardInterrupt",
     "evalue": "",
     "output_type": "error",
     "traceback": [
      "\u001b[1;31m---------------------------------------------------------------------------\u001b[0m",
      "\u001b[1;31mValueError\u001b[0m                                Traceback (most recent call last)",
      "Cell \u001b[1;32mIn[62], line 24\u001b[0m\n\u001b[0;32m     23\u001b[0m \u001b[38;5;28;01mtry\u001b[39;00m:\n\u001b[1;32m---> 24\u001b[0m     end \u001b[38;5;241m=\u001b[39m \u001b[43mdatetime\u001b[49m\u001b[38;5;241;43m.\u001b[39;49m\u001b[43mdatetime\u001b[49m\u001b[38;5;241;43m.\u001b[39;49m\u001b[43mstrptime\u001b[49m\u001b[43m(\u001b[49m\u001b[43mfunds\u001b[49m\u001b[43m[\u001b[49m\u001b[38;5;124;43m'\u001b[39;49m\u001b[38;5;124;43mA\u001b[39;49m\u001b[38;5;124;43m'\u001b[39;49m\u001b[43m]\u001b[49m\u001b[43m[\u001b[49m\u001b[43mi\u001b[49m\u001b[43m \u001b[49m\u001b[38;5;241;43m+\u001b[39;49m\u001b[43m \u001b[49m\u001b[38;5;241;43m1\u001b[39;49m\u001b[43m]\u001b[49m\u001b[38;5;241;43m.\u001b[39;49m\u001b[43mvalue\u001b[49m\u001b[43m,\u001b[49m\u001b[43m \u001b[49m\u001b[38;5;124;43m\"\u001b[39;49m\u001b[38;5;124;43m%\u001b[39;49m\u001b[38;5;124;43mY-\u001b[39;49m\u001b[38;5;124;43m%\u001b[39;49m\u001b[38;5;124;43mm-\u001b[39;49m\u001b[38;5;132;43;01m%d\u001b[39;49;00m\u001b[38;5;124;43m\"\u001b[39;49m\u001b[43m)\u001b[49m\n\u001b[0;32m     25\u001b[0m \u001b[38;5;28;01mexcept\u001b[39;00m:\n",
      "File \u001b[1;32mC:\\ProgramData\\anaconda3-64\\envs\\new_pytorch_env\\lib\\_strptime.py:568\u001b[0m, in \u001b[0;36m_strptime_datetime\u001b[1;34m(cls, data_string, format)\u001b[0m\n\u001b[0;32m    566\u001b[0m \u001b[38;5;124;03m\"\"\"Return a class cls instance based on the input string and the\u001b[39;00m\n\u001b[0;32m    567\u001b[0m \u001b[38;5;124;03mformat string.\"\"\"\u001b[39;00m\n\u001b[1;32m--> 568\u001b[0m tt, fraction, gmtoff_fraction \u001b[38;5;241m=\u001b[39m \u001b[43m_strptime\u001b[49m\u001b[43m(\u001b[49m\u001b[43mdata_string\u001b[49m\u001b[43m,\u001b[49m\u001b[43m \u001b[49m\u001b[38;5;28;43mformat\u001b[39;49m\u001b[43m)\u001b[49m\n\u001b[0;32m    569\u001b[0m tzname, gmtoff \u001b[38;5;241m=\u001b[39m tt[\u001b[38;5;241m-\u001b[39m\u001b[38;5;241m2\u001b[39m:]\n",
      "File \u001b[1;32mC:\\ProgramData\\anaconda3-64\\envs\\new_pytorch_env\\lib\\_strptime.py:349\u001b[0m, in \u001b[0;36m_strptime\u001b[1;34m(data_string, format)\u001b[0m\n\u001b[0;32m    348\u001b[0m \u001b[38;5;28;01mif\u001b[39;00m \u001b[38;5;129;01mnot\u001b[39;00m found:\n\u001b[1;32m--> 349\u001b[0m     \u001b[38;5;28;01mraise\u001b[39;00m \u001b[38;5;167;01mValueError\u001b[39;00m(\u001b[38;5;124m\"\u001b[39m\u001b[38;5;124mtime data \u001b[39m\u001b[38;5;132;01m%r\u001b[39;00m\u001b[38;5;124m does not match format \u001b[39m\u001b[38;5;132;01m%r\u001b[39;00m\u001b[38;5;124m\"\u001b[39m \u001b[38;5;241m%\u001b[39m\n\u001b[0;32m    350\u001b[0m                      (data_string, \u001b[38;5;28mformat\u001b[39m))\n\u001b[0;32m    351\u001b[0m \u001b[38;5;28;01mif\u001b[39;00m \u001b[38;5;28mlen\u001b[39m(data_string) \u001b[38;5;241m!=\u001b[39m found\u001b[38;5;241m.\u001b[39mend():\n",
      "\u001b[1;31mValueError\u001b[0m: time data '05.02.2018' does not match format '%Y-%m-%d'",
      "\nDuring handling of the above exception, another exception occurred:\n",
      "\u001b[1;31mKeyboardInterrupt\u001b[0m                         Traceback (most recent call last)",
      "Cell \u001b[1;32mIn[62], line 26\u001b[0m\n\u001b[0;32m     24\u001b[0m     end \u001b[38;5;241m=\u001b[39m datetime\u001b[38;5;241m.\u001b[39mdatetime\u001b[38;5;241m.\u001b[39mstrptime(funds[\u001b[38;5;124m'\u001b[39m\u001b[38;5;124mA\u001b[39m\u001b[38;5;124m'\u001b[39m][i \u001b[38;5;241m+\u001b[39m \u001b[38;5;241m1\u001b[39m]\u001b[38;5;241m.\u001b[39mvalue, \u001b[38;5;124m\"\u001b[39m\u001b[38;5;124m%\u001b[39m\u001b[38;5;124mY-\u001b[39m\u001b[38;5;124m%\u001b[39m\u001b[38;5;124mm-\u001b[39m\u001b[38;5;132;01m%d\u001b[39;00m\u001b[38;5;124m\"\u001b[39m)\n\u001b[0;32m     25\u001b[0m \u001b[38;5;28;01mexcept\u001b[39;00m:\n\u001b[1;32m---> 26\u001b[0m     end \u001b[38;5;241m=\u001b[39m datetime\u001b[38;5;241m.\u001b[39mdatetime\u001b[38;5;241m.\u001b[39mstrptime(\u001b[43mfunds\u001b[49m\u001b[43m[\u001b[49m\u001b[38;5;124;43m'\u001b[39;49m\u001b[38;5;124;43mA\u001b[39;49m\u001b[38;5;124;43m'\u001b[39;49m\u001b[43m]\u001b[49m[i \u001b[38;5;241m+\u001b[39m \u001b[38;5;241m1\u001b[39m]\u001b[38;5;241m.\u001b[39mvalue, \u001b[38;5;124m\"\u001b[39m\u001b[38;5;132;01m%d\u001b[39;00m\u001b[38;5;124m.\u001b[39m\u001b[38;5;124m%\u001b[39m\u001b[38;5;124mm.\u001b[39m\u001b[38;5;124m%\u001b[39m\u001b[38;5;124mY\u001b[39m\u001b[38;5;124m\"\u001b[39m)\n\u001b[0;32m     27\u001b[0m \u001b[38;5;28;01mwhile\u001b[39;00m date \u001b[38;5;241m<\u001b[39m end:\n\u001b[0;32m     28\u001b[0m     \u001b[38;5;28mprint\u001b[39m(\u001b[38;5;124m\"\u001b[39m\u001b[38;5;124mhere\u001b[39m\u001b[38;5;124m\"\u001b[39m)\n",
      "File \u001b[1;32mC:\\ProgramData\\anaconda3-64\\envs\\new_pytorch_env\\lib\\site-packages\\openpyxl\\worksheet\\worksheet.py:301\u001b[0m, in \u001b[0;36mWorksheet.__getitem__\u001b[1;34m(self, key)\u001b[0m\n\u001b[0;32m    298\u001b[0m     \u001b[38;5;28;01mraise\u001b[39;00m \u001b[38;5;167;01mIndexError\u001b[39;00m(\u001b[38;5;124m\"\u001b[39m\u001b[38;5;132;01m{0}\u001b[39;00m\u001b[38;5;124m is not a valid coordinate or range\u001b[39m\u001b[38;5;124m\"\u001b[39m\u001b[38;5;241m.\u001b[39mformat(key))\n\u001b[0;32m    300\u001b[0m \u001b[38;5;28;01mif\u001b[39;00m min_row \u001b[38;5;129;01mis\u001b[39;00m \u001b[38;5;28;01mNone\u001b[39;00m:\n\u001b[1;32m--> 301\u001b[0m     cols \u001b[38;5;241m=\u001b[39m \u001b[38;5;28mtuple\u001b[39m(\u001b[38;5;28;43mself\u001b[39;49m\u001b[38;5;241;43m.\u001b[39;49m\u001b[43miter_cols\u001b[49m\u001b[43m(\u001b[49m\u001b[43mmin_col\u001b[49m\u001b[43m,\u001b[49m\u001b[43m \u001b[49m\u001b[43mmax_col\u001b[49m\u001b[43m)\u001b[49m)\n\u001b[0;32m    302\u001b[0m     \u001b[38;5;28;01mif\u001b[39;00m min_col \u001b[38;5;241m==\u001b[39m max_col:\n\u001b[0;32m    303\u001b[0m         cols \u001b[38;5;241m=\u001b[39m cols[\u001b[38;5;241m0\u001b[39m]\n",
      "File \u001b[1;32mC:\\ProgramData\\anaconda3-64\\envs\\new_pytorch_env\\lib\\site-packages\\openpyxl\\worksheet\\worksheet.py:510\u001b[0m, in \u001b[0;36mWorksheet.iter_cols\u001b[1;34m(self, min_col, max_col, min_row, max_row, values_only)\u001b[0m\n\u001b[0;32m    508\u001b[0m min_row \u001b[38;5;241m=\u001b[39m min_row \u001b[38;5;129;01mor\u001b[39;00m \u001b[38;5;241m1\u001b[39m\n\u001b[0;32m    509\u001b[0m max_col \u001b[38;5;241m=\u001b[39m max_col \u001b[38;5;129;01mor\u001b[39;00m \u001b[38;5;28mself\u001b[39m\u001b[38;5;241m.\u001b[39mmax_column\n\u001b[1;32m--> 510\u001b[0m max_row \u001b[38;5;241m=\u001b[39m max_row \u001b[38;5;129;01mor\u001b[39;00m \u001b[38;5;28;43mself\u001b[39;49m\u001b[38;5;241;43m.\u001b[39;49m\u001b[43mmax_row\u001b[49m\n\u001b[0;32m    512\u001b[0m \u001b[38;5;28;01mreturn\u001b[39;00m \u001b[38;5;28mself\u001b[39m\u001b[38;5;241m.\u001b[39m_cells_by_col(min_col, min_row, max_col, max_row, values_only)\n",
      "File \u001b[1;32mC:\\ProgramData\\anaconda3-64\\envs\\new_pytorch_env\\lib\\site-packages\\openpyxl\\worksheet\\worksheet.py:352\u001b[0m, in \u001b[0;36mWorksheet.max_row\u001b[1;34m(self)\u001b[0m\n\u001b[0;32m    350\u001b[0m max_row \u001b[38;5;241m=\u001b[39m \u001b[38;5;241m1\u001b[39m\n\u001b[0;32m    351\u001b[0m \u001b[38;5;28;01mif\u001b[39;00m \u001b[38;5;28mself\u001b[39m\u001b[38;5;241m.\u001b[39m_cells:\n\u001b[1;32m--> 352\u001b[0m     rows \u001b[38;5;241m=\u001b[39m \u001b[38;5;28;43mset\u001b[39;49m\u001b[43m(\u001b[49m\u001b[43mc\u001b[49m\u001b[43m[\u001b[49m\u001b[38;5;241;43m0\u001b[39;49m\u001b[43m]\u001b[49m\u001b[43m \u001b[49m\u001b[38;5;28;43;01mfor\u001b[39;49;00m\u001b[43m \u001b[49m\u001b[43mc\u001b[49m\u001b[43m \u001b[49m\u001b[38;5;129;43;01min\u001b[39;49;00m\u001b[43m \u001b[49m\u001b[38;5;28;43mself\u001b[39;49m\u001b[38;5;241;43m.\u001b[39;49m\u001b[43m_cells\u001b[49m\u001b[43m)\u001b[49m\n\u001b[0;32m    353\u001b[0m     max_row \u001b[38;5;241m=\u001b[39m \u001b[38;5;28mmax\u001b[39m(rows)\n\u001b[0;32m    354\u001b[0m \u001b[38;5;28;01mreturn\u001b[39;00m max_row\n",
      "File \u001b[1;32mC:\\ProgramData\\anaconda3-64\\envs\\new_pytorch_env\\lib\\site-packages\\openpyxl\\worksheet\\worksheet.py:352\u001b[0m, in \u001b[0;36m<genexpr>\u001b[1;34m(.0)\u001b[0m\n\u001b[0;32m    350\u001b[0m max_row \u001b[38;5;241m=\u001b[39m \u001b[38;5;241m1\u001b[39m\n\u001b[0;32m    351\u001b[0m \u001b[38;5;28;01mif\u001b[39;00m \u001b[38;5;28mself\u001b[39m\u001b[38;5;241m.\u001b[39m_cells:\n\u001b[1;32m--> 352\u001b[0m     rows \u001b[38;5;241m=\u001b[39m \u001b[38;5;28mset\u001b[39m(c[\u001b[38;5;241m0\u001b[39m] \u001b[38;5;28;01mfor\u001b[39;00m c \u001b[38;5;129;01min\u001b[39;00m \u001b[38;5;28mself\u001b[39m\u001b[38;5;241m.\u001b[39m_cells)\n\u001b[0;32m    353\u001b[0m     max_row \u001b[38;5;241m=\u001b[39m \u001b[38;5;28mmax\u001b[39m(rows)\n\u001b[0;32m    354\u001b[0m \u001b[38;5;28;01mreturn\u001b[39;00m max_row\n",
      "\u001b[1;31mKeyboardInterrupt\u001b[0m: "
     ]
    }
   ],
   "source": [
    "import openpyxl\n",
    "\n",
    "funds = openpyxl.load_workbook(\"./gazprom-moscow-exchange.xlsx\")\n",
    "funds = funds.active\n",
    "date_is = []\n",
    "for i in range(1, funds.max_row - 1):\n",
    "    try:\n",
    "        date = datetime.datetime.strptime(funds['A'][i].value, \"%Y-%m-%d\")\n",
    "    except:\n",
    "        date = datetime.datetime.strptime(funds['A'][i].value, \"%d.%m.%Y\")\n",
    "    date_is.append((date, i))"
   ]
  },
  {
   "cell_type": "code",
   "execution_count": 95,
   "id": "c46a3627",
   "metadata": {},
   "outputs": [],
   "source": [
    "prices = {}\n",
    "old_di = list(sorted(date_is, key=lambda di: di[0]))[0]\n",
    "new_di = None\n",
    "for di in sorted(date_is, key=lambda di: di[0]):\n",
    "    new_di = di\n",
    "    _, ni = new_di\n",
    "    _, oi = old_di\n",
    "    try:\n",
    "        date = datetime.datetime.strptime(funds['A'][oi].value, \"%Y-%m-%d\")\n",
    "    except:\n",
    "        date = datetime.datetime.strptime(funds['A'][oi].value, \"%d.%m.%Y\")\n",
    "    try:\n",
    "        end = datetime.datetime.strptime(funds['A'][ni].value, \"%Y-%m-%d\")\n",
    "    except:\n",
    "        end = datetime.datetime.strptime(funds['A'][ni].value, \"%d.%m.%Y\")\n",
    "    while date < end:\n",
    "        prices[date] = funds['H'][oi].value\n",
    "        date += datetime.timedelta(days=1)\n",
    "    old_di = new_di"
   ]
  },
  {
   "cell_type": "code",
   "execution_count": 96,
   "id": "271ca81e",
   "metadata": {},
   "outputs": [],
   "source": [
    "dates = []\n",
    "scores = []\n",
    "prices_list = []\n",
    "for date in sorted(prices.keys()):\n",
    "    if date in date_score.keys():\n",
    "        dates.append(date)\n",
    "        scores.append(date_score[date])        \n",
    "        prices_list.append(prices[date])"
   ]
  },
  {
   "cell_type": "code",
   "execution_count": 98,
   "id": "93aceb2c",
   "metadata": {},
   "outputs": [
    {
     "data": {
      "text/plain": [
       "[<matplotlib.lines.Line2D at 0x1cc4a2f0760>]"
      ]
     },
     "execution_count": 98,
     "metadata": {},
     "output_type": "execute_result"
    },
    {
     "data": {
      "image/png": "[encoded data removed]",
      "text/plain": [
       "<Figure size 640x480 with 1 Axes>"
      ]
     },
     "metadata": {},
     "output_type": "display_data"
    }
   ],
   "source": [
    "import matplotlib.pyplot as plt\n",
    "plt.plot(dates[1:], scores[1:])\n",
    "difference = []\n",
    "for i in range(1, len(prices_list)):\n",
    "    difference.append(prices_list[i] - prices_list[i - 1])\n",
    "plt.plot(dates[1:], difference)"
   ]
  },
  {
   "cell_type": "code",
   "execution_count": 107,
   "id": "c18d6730",
   "metadata": {},
   "outputs": [],
   "source": [
    "with open(\"./exog.txt\", 'w') as outf:\n",
    "    for score in scores:\n",
    "        outf.write(str(score) + \"\\n\")\n",
    "with open(\"./endog.txt\", 'w') as outf:\n",
    "    for price in prices_list:\n",
    "        outf.write(str(price) + \"\\n\")\n",
    "with open(\"./dates.txt\", 'w') as outf:\n",
    "    for date in dates:\n",
    "        outf.write(str(date) + \"\\n\")"
   ]
  },
  {
   "cell_type": "code",
   "execution_count": null,
   "id": "42d79083",
   "metadata": {},
   "outputs": [],
   "source": []
  }
 ],
 "metadata": {
  "kernelspec": {
   "display_name": "Python 3 (ipykernel)",
   "language": "python",
   "name": "python3"
  },
  "language_info": {
   "codemirror_mode": {
    "name": "ipython",
    "version": 3
   },
   "file_extension": ".py",
   "mimetype": "text/x-python",
   "name": "python",
   "nbconvert_exporter": "python",
   "pygments_lexer": "ipython3",
   "version": "3.8.16"
  }
 },
 "nbformat": 4,
 "nbformat_minor": 5
}
